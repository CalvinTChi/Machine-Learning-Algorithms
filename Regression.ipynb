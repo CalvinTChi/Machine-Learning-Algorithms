{
 "cells": [
  {
   "cell_type": "markdown",
   "metadata": {},
   "source": [
    "# Regression\n",
    "### Author: _Calvin Chi_"
   ]
  },
  {
   "cell_type": "markdown",
   "metadata": {},
   "source": [
    "Regression analysis is a statistical procedure of building a model to estimate the relationship between variables. In this tutorial, we will cover two types of regression models - linear regression and logistic regression. We will start with linear regression."
   ]
  },
  {
   "cell_type": "markdown",
   "metadata": {},
   "source": [
    "# Linear Regression\n",
    "In linear regression, we assume that the true relationship between independent variables and the dependent variable follows the relationship:\n",
    "\n",
    "$$y = X\\beta + \\epsilon$$\n",
    "\n",
    "Where $y \\in \\mathbb{R}^{m x 1}$, $X \\in \\mathbb{R}^{m x n}$, $\\beta \\in \\mathbb{R}^{n x 1}$, and $\\epsilon  \\stackrel{iid}{\\sim} N(0, \\sigma)$. Typically we do not know what the standard deviation $\\sigma$ of the residual is, but it is also not required for estimating the coefficients $\\beta$ relating the relationship between $X$ and $y$. \n",
    "\n",
    "This model has a few statistical properties: \n",
    "\n",
    "(1) $E(y) = E(X\\beta) + E(\\epsilon) = X\\beta$    \n",
    "(2) $y \\sim N(X\\beta, \\sigma)$ because $Var(y) \\sim Var(X\\beta) + Var(\\epsilon) = Var(\\epsilon) = \\sigma^{2}$. $Var(X\\beta) = 0$ because $X\\beta$ are fixed points, not random variables.     \n",
    "(3) $\\hat{\\beta}$ is a consistent estimator according to $P( |\\hat{\\beta} - \\beta| ) > \\epsilon) \\rightarrow 0$ as $n \\rightarrow \\infty$.\n",
    "\n",
    "#### _Consistency Proof_\n",
    "(1) $E(\\hat{\\beta}) = \\beta $   \n",
    "(2) In general, If $E[(X_{n} - X)^{2}] \\rightarrow 0$, then $P(|X_{n} - X| > \\epsilon) \\rightarrow 0$ because $P(|X_{n} - X|^{2} > \\epsilon^{2}) \\le \\frac{E[(X_{n} - X)^{2}]}{\\epsilon^{2}} = 0$ according to Markov's inequality.   \n",
    "(3) $Cov(\\hat{B}) = (X^{T}X)^{-1}\\sigma^{2} = Var(\\hat{B})$ because:   \n",
    "> If the loss function is defined as $l = \\sum_{i=1}^{n}(y_{i} - \\beta x_{i})^{2}$   \n",
    "> Then $\\hat{B} = (X^{T}X)^{-1}X^{T}y$   \n",
    "> $Cov(\\hat{B}) = (X^{T}X)^{-1}X^{T}Cov(\\epsilon)X(X^{T}X)^{-1} = (X^{T}X)^{-1}(X^{T}X)Cov(\\epsilon)(X^{T}X)^{-1} = \\sigma^{2}(X^{T}X)^{-1}$    \n",
    "> $Cov(\\hat{B}) = Var(\\hat{B})$ because $\\sigma^{2}$ cross-diagonal terms are zero. $\\sigma^{2}$'s cross-diagonal terms are zero because $\\epsilon$ are independently and identically distributed.   \n",
    "\n",
    "(4) If $Z = c + AY$, where only $Y$ is random, then $Cov(Z) = ACov(Y)A^{T}$\n",
    "\n",
    "$E[(\\hat{B} - B)^{2}] = E[(\\hat{B} - E(\\hat{B}))^{2}] = Var(\\hat{B})$ by definition of variance.   \n",
    "Since $X \\in \\mathbb{R}^{nx1}$, $X^{T}X$ is a scalar, and $\\rightarrow \\infty$ as $n \\rightarrow \\infty$, hence   \n",
    "$Cov(\\hat{B}) = Var(\\hat{B}) = (X^{T}X)^{-1}\\sigma^{2} \\rightarrow 0$, and $E[(\\hat{B} - B)^{2}] \\rightarrow 0$ as $n \\rightarrow \\infty$, and thus $P( |\\hat{\\beta} - \\beta| ) > \\epsilon) \\rightarrow 0$. \n"
   ]
  },
  {
   "cell_type": "markdown",
   "metadata": {},
   "source": [
    "## Optimization\n",
    "An intuitive way of evaluating the fitness of our model is to quanitfy the difference between predicted value and actual value $y - \\hat{y}$. A common way to do so is to sum the squared differences of all the predicted output, defined as \n",
    "\n",
    "$$L = \\sum_{i=1}^{n}(y^{i} - \\hat{y}^{i})^{2}$$\n",
    "\n",
    "Where $y^{i}$ represents the actual value of sample $i$. Our goal is to find $\\beta$ that minimizes loss, which is sometimes called the objective function. One way to minimize this loss is by finding $\\beta$ such that the first derivative of the loss is equal to zero. Let us do that now in matrix notation:\n",
    "\n",
    "$$L = (y - \\hat{y})^{T}(y - \\hat{y})$$\n",
    "$$\\frac{d(L)}{d\\beta} = -2X^{T}(y - X\\beta) = -X^{T}y + X^{T}X\\beta = 0$$\n",
    "$$\\hat{\\beta} = (X^{T}X)^{-1}X^{T}y$$\n",
    "\n",
    "We can verify that the $\\hat{\\beta}$ that we have found is the $\\hat{\\beta}$ that minimizes $L$ by the second derivative test:\n",
    "\n",
    "$$\\frac{d^{2}(L)}{d\\beta^{2}} = X^{T}X $$\n",
    "\n",
    "Which ensures that the diagonal terms, and thus all the appropriate second derivative terms, are positive. "
   ]
  },
  {
   "cell_type": "markdown",
   "metadata": {},
   "source": [
    "## Implementation"
   ]
  },
  {
   "cell_type": "markdown",
   "metadata": {
    "collapsed": true
   },
   "source": [
    "In our implementation below we will use linear regression to predict median home value in a given Census area. There are a total of 8 features for each data point. First, let us load up this dataset and examine the design matrix $X$."
   ]
  },
  {
   "cell_type": "code",
   "execution_count": 5,
   "metadata": {
    "collapsed": false
   },
   "outputs": [
    {
     "name": "stdout",
     "output_type": "stream",
     "text": [
      "(19440, 8)\n",
      "(19440, 1)\n"
     ]
    }
   ],
   "source": [
    "from scipy import io\n",
    "import numpy as np\n",
    "from numpy.linalg import inv\n",
    "import matplotlib.pyplot as plt\n",
    "\n",
    "data = io.loadmat('datasets/housing_data.mat')\n",
    "xtrain = data['Xtrain']\n",
    "ytrain = data['Ytrain']\n",
    "xvalidate = data['Xvalidate']\n",
    "yvalidate = data['Yvalidate']\n",
    "print(xtrain.shape)\n",
    "print(ytrain.shape)"
   ]
  },
  {
   "cell_type": "markdown",
   "metadata": {},
   "source": [
    "The design matrix $X$ is a $19440 x 8$ matrix. We now add the constant terms of one so that the model estimates $\\beta_{0}$ values."
   ]
  },
  {
   "cell_type": "code",
   "execution_count": 6,
   "metadata": {
    "collapsed": false
   },
   "outputs": [
    {
     "name": "stdout",
     "output_type": "stream",
     "text": [
      "(19440, 9)\n",
      "(1200, 9)\n"
     ]
    }
   ],
   "source": [
    "m1 = xtrain.shape[0]\n",
    "m2 = xvalidate.shape[0]\n",
    "xtrain = np.hstack((np.ones((m1, 1)), xtrain))\n",
    "xvalidate = np.hstack((np.ones((m2, 1)), xvalidate))\n",
    "print(xtrain.shape)\n",
    "print(xvalidate.shape)"
   ]
  },
  {
   "cell_type": "markdown",
   "metadata": {},
   "source": [
    "We can now find our $\\beta$ values using our least squares solution: \n",
    "\n",
    "$$\\hat{\\beta} = (X^{T}X)^{-1}X^{T}y$$\n",
    "\n"
   ]
  },
  {
   "cell_type": "code",
   "execution_count": 12,
   "metadata": {
    "collapsed": false
   },
   "outputs": [
    {
     "name": "stdout",
     "output_type": "stream",
     "text": [
      "[[ -3.56686439e+06]\n",
      " [  4.05879986e+04]\n",
      " [  1.19561189e+03]\n",
      " [ -8.50145688e+00]\n",
      " [  1.18352188e+02]\n",
      " [ -3.77900280e+01]\n",
      " [  4.30562637e+01]\n",
      " [ -4.21794075e+04]\n",
      " [ -4.24573474e+04]]\n"
     ]
    }
   ],
   "source": [
    "coef = np.dot(np.dot(inv(np.dot(np.transpose(xtrain), xtrain)), \n",
    "        np.transpose(xtrain)), ytrain)\n",
    "print(coef)"
   ]
  },
  {
   "cell_type": "code",
   "execution_count": 50,
   "metadata": {
    "collapsed": false
   },
   "outputs": [
    {
     "data": {
      "image/png": "[encoded data removed]",
      "text/plain": [
       "<matplotlib.figure.Figure at 0x109786c88>"
      ]
     },
     "metadata": {},
     "output_type": "display_data"
    }
   ],
   "source": [
    "%matplotlib inline\n",
    "xplot = np.array(range(1, 9))\n",
    "yplot = coef[1:len(coef)]\n",
    "plt.scatter(xplot, yplot)\n",
    "plt.title(\"Regression Coefficients\")\n",
    "plt.xlabel('Index')\n",
    "plt.ylabel('Regression Coefficinets')\n",
    "plt.show()"
   ]
  },
  {
   "cell_type": "markdown",
   "metadata": {},
   "source": [
    "We now predict on our validation set via the equation:\n",
    "\n",
    "$$y = X_{validation}\\hat{\\beta}$$"
   ]
  },
  {
   "cell_type": "code",
   "execution_count": 30,
   "metadata": {
    "collapsed": false
   },
   "outputs": [],
   "source": [
    "ypredict = np.dot(xvalidate, coef)"
   ]
  },
  {
   "cell_type": "markdown",
   "metadata": {},
   "source": [
    "And calculate the residual sum of squares error:"
   ]
  },
  {
   "cell_type": "code",
   "execution_count": 42,
   "metadata": {
    "collapsed": false
   },
   "outputs": [
    {
     "name": "stdout",
     "output_type": "stream",
     "text": [
      "The residual sum of squares is 5.79495379765e+12\n"
     ]
    }
   ],
   "source": [
    "error = ypredict - yvalidate\n",
    "RSS = np.sum(error**2)\n",
    "print(\"The residual sum of squares is\", RSS)"
   ]
  },
  {
   "cell_type": "markdown",
   "metadata": {},
   "source": [
    "We can now evaluate how well our assumption that the errors are independently and identically distributed holds: "
   ]
  },
  {
   "cell_type": "code",
   "execution_count": 48,
   "metadata": {
    "collapsed": false
   },
   "outputs": [
    {
     "data": {
      "image/png": "[encoded data removed]",
      "text/plain": [
       "<matplotlib.figure.Figure at 0x1096f81d0>"
      ]
     },
     "metadata": {},
     "output_type": "display_data"
    }
   ],
   "source": [
    "plt.scatter(range(m2), (ypredict - yvalidate))\n",
    "plt.xlim(-150, 1300)\n",
    "plt.title(\"Error versus Sample Index\")\n",
    "plt.xlabel('Sample Index')\n",
    "plt.ylabel('Error')\n",
    "plt.show()"
   ]
  },
  {
   "cell_type": "markdown",
   "metadata": {},
   "source": [
    "And indeed, the errors appear to be identically and independently distributed across samples. We can check whether the errors do distribute according to a normal distribution with mean zero and unknown standard deviation:\n",
    "\n",
    "$$\\epsilon \\stackrel{iid}{\\sim} N(0, \\sigma)$$\n"
   ]
  },
  {
   "cell_type": "code",
   "execution_count": 51,
   "metadata": {
    "collapsed": false
   },
   "outputs": [
    {
     "data": {
      "image/png": "[encoded data removed]",
      "text/plain": [
       "<matplotlib.figure.Figure at 0x10989c860>"
      ]
     },
     "metadata": {},
     "output_type": "display_data"
    }
   ],
   "source": [
    "plt.hist(error, bins=np.arange(min(error), max(error) + 25000, 25000))\n",
    "plt.xlabel('Error')\n",
    "plt.ylabel('Count')\n",
    "plt.title('Histogram of Errors')\n",
    "plt.show()"
   ]
  },
  {
   "cell_type": "markdown",
   "metadata": {},
   "source": [
    "The errors do appear normally distributed, but with a slight left tail. "
   ]
  },
  {
   "cell_type": "markdown",
   "metadata": {},
   "source": [
    "## Estimating Standard Deviation\n",
    "Once we have the errors, it is possible to construct an unbiased estimator for the standard deviation $\\sigma$ of the residuals. The formula for the unbiased estimator is as follows:\n",
    "\n",
    "$$\\hat{\\sigma}^{2} = \\frac{1}{n-p}\\sum_{i=1}^{n}e_{i}^{2}$$\n",
    "\n",
    "Where $e$ is the error, $p$ is the number of feastures, and $n$ is the number of samples. \n",
    "\n",
    "#### _Proof_\n",
    "(1) $H = X(X^{T}X)^{-1}X^{T}$  \n",
    "(2) $H^{2} = H$   \n",
    "(3) $\\tilde{H} = I - H$    \n",
    "(4) $e = y - \\hat{y} = y - Hy = y(I - H) = (I - H)(X\\beta + \\epsilon) =\n",
    "X\\beta + \\epsilon - X(X^{T}X)^{-1}(X^{T}X)\\beta - H\\epsilon =\\\\ \n",
    "(I - H)\\epsilon = \\tilde{H}\\epsilon\\\\$    \n",
    "(5) tr(AB) = tr(BA)   \n",
    "\n",
    "$\\sum_{i=1}^{n}e_{i}^{2} = e^{T}e \\stackrel{by\\:(4)}{=} \\epsilon^{T}\\tilde{H}^{T}\\tilde{H}\\epsilon \\stackrel{by\\:(3)} = \\epsilon^{T}(I - H)(I - H)\\epsilon = \\epsilon^{T}(I^{2} - 2HI + H^{2})\\epsilon\\\\ \\stackrel{by\\:(2)}{=} \\epsilon^{T}(I^{2} - 2H + H)\\epsilon = \\epsilon^{T}(I - H)\\epsilon \\stackrel{by\\:(3)}{=} \\epsilon^{T}\\tilde{H}\\epsilon$   \n",
    "\n",
    "$$E(\\sum_{i=1}^{n}e_{i}^{2}) = E(\\epsilon^{T}\\tilde{H}\\epsilon|X) =$$ $$E(\\sum_{i=1}^{n}\\sum_{j=1}^{n}\\epsilon_{i}\\tilde{H}_{i, j}\\epsilon_{j}|X) =$$ $$\\sum_{i=1}^{n}\\sum_{j=1}^{n}\\tilde{H}_{i, j} E(\\epsilon_{i}\\epsilon_{j}|X) = $$\n",
    "$$\\sigma^{2} tr(\\tilde{H}) = \\sigma^{2} tr(I - H) = \\sigma^{2} (tr(I) - tr(H)) =$$\n",
    "$$\\sigma^{2} (n - tr(X(X^{T}X)^{-1}X^{T})) = \\sigma^{2} (n - tr((X^{T}X)^{-1}(X^{T}X))) =$$ $$\\sigma^{2} (n - p)$$\n",
    "\n",
    "Hence, $E(\\frac{1}{n-p}\\sum_{i=1}^{n}e_{i}^{2}) = \\sigma^{2}$\n",
    "\n",
    "Let's estimate what $\\sigma$ is in our data:"
   ]
  },
  {
   "cell_type": "code",
   "execution_count": 52,
   "metadata": {
    "collapsed": false
   },
   "outputs": [
    {
     "name": "stdout",
     "output_type": "stream",
     "text": [
      "[  4.86562032e+09]\n"
     ]
    }
   ],
   "source": [
    "variance = 1/(m2 - 9)*sum(error**2)\n",
    "print(variance)"
   ]
  },
  {
   "cell_type": "markdown",
   "metadata": {
    "collapsed": true
   },
   "source": [
    "# Logistic Regression"
   ]
  },
  {
   "cell_type": "markdown",
   "metadata": {
    "collapsed": true
   },
   "source": [
    "Logistic regression is best used in classification settings where the outcome $y$ is binary $\\in \\{0, 1\\}$. Probabilistically, we assume that the outcome is $1$ with probability $p$ and $0$ with probability $q = 1 - p$. Thus, the outcome is a Bernoulli random variable with parameter $p$. The goal of logistic regression is to find $p$ via a function of the data $X$. A good function is one that is bounded between $[0, 1]$, and one typically chosen in logistic regression is:\n",
    "\n",
    "$$ f(z) = \\frac{1}{e^{-z} + 1} $$\n",
    "\n",
    "Graphically this function appears as:"
   ]
  },
  {
   "cell_type": "code",
   "execution_count": 32,
   "metadata": {
    "collapsed": false
   },
   "outputs": [
    {
     "data": {
      "image/png": "[encoded data removed]",
      "text/plain": [
       "<matplotlib.figure.Figure at 0x10615da20>"
      ]
     },
     "metadata": {},
     "output_type": "display_data"
    }
   ],
   "source": [
    "%matplotlib inline\n",
    "import matplotlib.pyplot as plt\n",
    "import numpy as np\n",
    "import math\n",
    "x = np.linspace(-5, 5, 10, endpoint=True)\n",
    "\n",
    "def logistic(x):\n",
    "    return 1 / (np.exp(-x) + 1)\n",
    "\n",
    "y = logistic(x)\n",
    "plt.plot(x, y)\n",
    "plt.title(\"Logistic Function\")\n",
    "plt.show()"
   ]
  },
  {
   "cell_type": "markdown",
   "metadata": {},
   "source": [
    "Which we can verify that the function indeed is bounded at $[0, 1]$. In logistic regression, the model we are trying to train using the data is $\\beta$ defined in:\n",
    "\n",
    "$$P(y = 1 | X) = \\frac{1}{e^{-X\\beta} + 1}$$\n",
    "\n",
    "Where $X \\in \\mathbb{R}^{m x n}$. Thus, once $\\beta$ is trained and the logistic function constructed, the output of this function has a probabilisitic interpretation. How one classifies a data point will then depend on the threshold. For example, one can classify any sample that outputs a probability greater than 50% as one class and any sample with probability below 50% as another class. Typically, one evaluates probabilistic models by using the area under the ROC curve. The closer the area is to 1, the better the model."
   ]
  },
  {
   "cell_type": "markdown",
   "metadata": {},
   "source": [
    "## Optimization\n",
    "One way to find $\\beta$ is by minimzing a function that quantifies the error of the model. In this tutorial, we are going to use cross entropy as our loss function: \n",
    "\n",
    "$$ L = \\sum_{i = 1}^{n}log(1 + e^{-z^{(i)}}) $$\n",
    "\n",
    "Where $n$ is the number of training samples. To understand why the $\\beta$ that minimizes cross entropy is the $\\beta$ closest to true $\\beta$, we must understand cross entropy.\n",
    "\n",
    "### Cross Entropy\n",
    "In information theory, cross entropy is used to quantify how similar to two probability distributions $Q$ and $P$ are. Cross entropy is defined as: \n",
    "\n",
    "$$ R = \\sum_{i}p_{i}log_{2}(\\frac{1}{q_{i}}) = -\\sum_{i}p_{i}log_{2}(q_{i})$$\n",
    "\n",
    "$R$ is minimized when $Q$ and $P$ is the same. To see how this is so, assume without loss of generality that $Q$ and $P$ are 2-valued vectors. Thus, the objective is to minimize:\n",
    "\n",
    "$$R = -p_{1}ln q_{1} - p_{2}ln q_{2} $$\n",
    "\n",
    "With respect to $q_{1}$ and $q_{2}$ under the constraint that:\n",
    "\n",
    "$$C = q_{1} + q_{2} = 1$$\n",
    "\n",
    "To solve this we utilize the method of lagrange multipliers:\n",
    "\n",
    "$$\\frac{\\partial R}{\\partial q_{1}} = -\\frac{p_{1}}{q_{1}}\\\\$$\n",
    "$$\\frac{\\partial R}{\\partial q_{2}} = -\\frac{p_{2}}{q_{2}}\\\\$$\n",
    "$$-\\frac{p_{1}}{q_{1}} = \\lambda \\frac{\\partial C}{\\partial q_{1}} = \\lambda\\\\$$\n",
    "$$-\\frac{p_{2}}{q_{2}} = \\lambda \\frac{\\partial C}{\\partial q_{2}} = \\lambda\\\\$$\n",
    "$$\\frac{p_{1}}{q_{1}} = \\frac{p_{2}}{q_{2}}\\\\$$\n",
    "$$p_{1}q_{2} = p_{2}q_{1}\\\\$$\n",
    "$$q_{2} = \\frac{p_{2}q_{1}}{p_{1}}\\\\$$\n",
    "\n",
    "Given the constraint that $q_{1} = 1 - q_{2}$:\n",
    "\n",
    "$$q_{2} = \\frac{p_{2}}{p_{1}} - \\frac{p_{2}q_{2}}{p_{1}}\\\\$$\n",
    "$$p_{1}q_{2} = p_{2} - p_{2}q_{2}\\\\$$\n",
    "$$q_{2} = \\frac{p_{2}}{p_{1} + p_{2}} = p_{2}$$\n",
    "$$q_{1} = 1 - q_{2} = 1 - p_{2} = p_{1}$$\n",
    "\n",
    "We can ensure that $R$ is minimized when $P = Q$ through numerical examples."
   ]
  },
  {
   "cell_type": "code",
   "execution_count": 12,
   "metadata": {
    "collapsed": false
   },
   "outputs": [
    {
     "data": {
      "image/png": "[encoded data removed]",
      "text/plain": [
       "<matplotlib.figure.Figure at 0x10a9dd080>"
      ]
     },
     "metadata": {},
     "output_type": "display_data"
    }
   ],
   "source": [
    "q1 = np.array([0.01, 0.49, 0.5])\n",
    "q2 = np.array([1/3, 1/3, 1/3])\n",
    "q3 = np.array([0.05, 0.1, 0.85])\n",
    "q4 = np.array([0.58, 0.12, 0.3])\n",
    "p = np.array([0.25, 0.25, 0.5])\n",
    "qs = [q1, q2, q3, q4]\n",
    "\n",
    "def crossEntropy(prob):\n",
    "    p = np.array([0.25, 0.25, 0.5])\n",
    "    R = -sum(p*np.log2(prob))\n",
    "    return R\n",
    "\n",
    "rs = []\n",
    "for q in qs:\n",
    "    rs.append(crossEntropy(q))\n",
    "\n",
    "plt.scatter(np.linspace(1, 4, 4, endpoint=True), rs, color=\"black\")\n",
    "plt.scatter(5, crossEntropy(p), color=\"red\")\n",
    "plt.xlabel(\"Probability Distribution Index\")\n",
    "plt.ylabel(\"Cross Entropy\")\n",
    "plt.show()"
   ]
  },
  {
   "cell_type": "markdown",
   "metadata": {},
   "source": [
    "The red dot in the graph above corresonds to the cross entropy when $P = Q$. In other words, the cross entropy was calculated: \n",
    "\n",
    "$$ R = -\\sum_{i}p_{i}log_{2}p_{i} $$\n",
    "\n",
    "We can visually see that this cross entropy is the lowest value compared to other cross entropies calculated when $P \\neq Q$. Thus, cross entropy can be interpreted as a measure of how close $P$ is to $Q$ - the closer they are, the smaller the cross entropy value. "
   ]
  },
  {
   "cell_type": "markdown",
   "metadata": {
    "collapsed": false
   },
   "source": [
    "### Minimizing Cross Entropy\n",
    "Now returning to the topic of logistic regression, our probablility model is:\n",
    "\n",
    "$$ q = \\frac{1}{1 + e^{-z}} $$\n",
    "\n",
    "The true $P$ is just our labels $\\in [0, 1]$, so our cross entropy expression reduces to:\n",
    "\n",
    "$$ R = -log_{2}(1 + e^{-z})^{-1} = log_{2}(1 + e^{-z})$$\n",
    "\n",
    "Where $z^{(i)} = y^{(i)}x^{(i)}\\beta$ and is sometimes referred to as the functional margin. $(i)$ denotes the $i^{th}$ sample, and $y \\in \\{-1, +1\\}$. We now call this logistic loss, and this is the function that we want to minimize. Let us plot this loss function that we have chosen:"
   ]
  },
  {
   "cell_type": "code",
   "execution_count": 11,
   "metadata": {
    "collapsed": false
   },
   "outputs": [
    {
     "data": {
      "image/png": "[encoded data removed]",
      "text/plain": [
       "<matplotlib.figure.Figure at 0x108917eb8>"
      ]
     },
     "metadata": {},
     "output_type": "display_data"
    }
   ],
   "source": [
    "%matplotlib inline\n",
    "import matplotlib.pyplot as plt\n",
    "import numpy as np\n",
    "import math\n",
    "\n",
    "z = np.linspace(-5, 5, 10)\n",
    "\n",
    "def crossEntropy(z):\n",
    "    return np.log2(1 + np.exp(-z))\n",
    "\n",
    "y = crossEntropy(z)\n",
    "plt.plot(z, y)\n",
    "plt.xlabel(\"z\")\n",
    "plt.ylabel(\"Logistic loss\")\n",
    "plt.show()"
   ]
  },
  {
   "cell_type": "markdown",
   "metadata": {},
   "source": [
    "We see that when $z$ is positive, which occurs when $y^{(i)}$ and $x^{(i)}\\beta$ have the same sign, the logistic loss is small. However, when $z$ is negative, which occurs when $y^{(i)}$ and $x^{(i)}\\beta$ have different signs, then logistic loss is great. Hence, the more the predicted class and actual class disagree, the greater the penalty. \n",
    "\n",
    "One should note that the logistic loss is also called the negative log likelihood from a probabilisitic standpoint. Minimizing the negative log likelihood is equivalent to maximizing the log likelihood, so what we are doing is equivalent to finding $\\beta$ that maximizes the likelihood of the data being seen."
   ]
  },
  {
   "cell_type": "markdown",
   "metadata": {},
   "source": [
    "In this tutorial, we are going minimize our logistic loss using gradient descent. We will be using a modified logistic loss with natural log instead of log base 2 to make the derivation easier, but the transformation will not alter the end result. \n",
    "\n",
    "$$ R = ln(1 + e^{-y^{(1)}x^{(1)}\\beta}) + ... + ln(1 + e^{-y^{(m)}x^{(m)}\\beta})$$\n",
    "\n",
    "Let us derive our update equation by first finding the gradient. Note that $X \\in \\mathbb{R}^{m x n}$, where $m$ is number of samples and $n$ is number of features.\n",
    "\n",
    "$$ X = \n",
    "\\begin{bmatrix}\n",
    "x_{10} & \\dots & x_{1n}\\\\\n",
    "\\vdots & \\ddots & \\vdots \\\\\n",
    "x_{m0} & \\dots & x_{mn} \\\\\n",
    "\\end{bmatrix}$$\n",
    "\n",
    "$$ \\frac{\\partial R}{\\partial \\beta_{0}} = -\\Big[\\frac{x_{10}y^{(1)}e^{-y^{(1)}x^{(1)}\\beta}}{1 + e^{-y^{(1)}x^{(1)}\\beta}} + ... + \\frac{x_{m0}y^{(m)}e^{-y^{(m)}x^{(m)}\\beta}}{1 + e^{-y^{(m)}x^{(m)}\\beta}}\\Big]$$\n",
    "$$\\vdots$$\n",
    "$$ \\frac{\\partial R}{\\partial \\beta_{n}} = -\\Big[\\frac{x_{1n}y^{(1)}e^{-y^{(1)}x^{(1)}\\beta}}{1 + e^{-y^{(1)}x^{(1)}\\beta}} + ... + \\frac{x_{mn}y^{(m)}e^{-y^{(m)}x^{(m)}\\beta}}{1 + e^{-y^{(m)}x^{(m)}\\beta}}\\Big]$$\n",
    "\n",
    "Given that:\n",
    "\n",
    "$$\\frac{e^{-y^{(i)}x^{(i)}\\beta}}{1 + e^{-y^{(i)}x^{(i)}\\beta}} = \\frac{1}{e^{y^{(i)}x^{(i)}\\beta} + 1}$$\n",
    "\n",
    "and that $diag(y)$ means to turn a vector into a square matrix where each element in the vector becomes a diagonal element in the matrix, with zero all non-diagonal elements, we can write out the gradient in matrix form:\n",
    "\n",
    "$$\\frac{\\partial \\textbf{R}}{\\partial \\beta} = -(diag(y)X)^{T} \\frac{1}{e^{diag(y)X\\beta} + 1}$$\n",
    "\n",
    "Now with the gradient $G \\in \\mathbb{R}^{n x 1}$, we can write our update equation:\n",
    "\n",
    "$$ \\beta := \\beta - \\alpha G$$\n",
    "\n",
    "Where $\\alpha$ is our learning rate or step size. We are now ready to implement our logistic regression algorithm!"
   ]
  },
  {
   "cell_type": "markdown",
   "metadata": {},
   "source": [
    "## Implementation"
   ]
  },
  {
   "cell_type": "markdown",
   "metadata": {},
   "source": [
    "We are going to use our logistic regression implementation to predict whether an email is spam or not spam (ham). Our dataset consists of $3450$ emails, each with $57$ features. Most features are proportions of words that match a certain word. Some features however, are created, such as the sum of lengths of uninterrupted sequences of capital letters. Let us load our dataset and randomly partition $90\\%$ of it as the validation dataset."
   ]
  },
  {
   "cell_type": "code",
   "execution_count": 9,
   "metadata": {
    "collapsed": false
   },
   "outputs": [],
   "source": [
    "from scipy import io\n",
    "import matplotlib.pyplot as plt\n",
    "import numpy as np\n",
    "\n",
    "data = io.loadmat('datasets/spam.mat')\n",
    "Xtrain = data['Xtrain']\n",
    "Ytrain = data['Ytrain']\n",
    "m = Xtrain.shape[0]\n",
    "idx = np.random.permutation(m)\n",
    "Xtrain = data['Xtrain'][idx, :]\n",
    "Ytrain = data['Ytrain'][idx, :]\n",
    "Xvali = Xtrain[round(0.9*m):m, :]\n",
    "Yvali = Ytrain[round(0.9*m):m, :]\n",
    "Xtrain = Xtrain[:round(0.9*m), :]\n",
    "Ytrain = Ytrain[:round(0.9*m), :]"
   ]
  },
  {
   "cell_type": "markdown",
   "metadata": {},
   "source": [
    "Often times, it is a good idea to preprocess our data in order to get better performance. A common preprocessing step is to standardize each feature so that it has mean $0$ and unit variance."
   ]
  },
  {
   "cell_type": "code",
   "execution_count": 10,
   "metadata": {
    "collapsed": false
   },
   "outputs": [],
   "source": [
    "def standardize(a):\n",
    "    return (a - np.mean(a)) / np.std(a)\n",
    "\n",
    "XtrainP = np.apply_along_axis(standardize, 0, Xtrain)\n",
    "XvaliP = np.apply_along_axis(standardize, 0, Xvali)"
   ]
  },
  {
   "cell_type": "markdown",
   "metadata": {},
   "source": [
    "Now it is time to write our gradient descent methods. There are two types of gradient descent methods - batch gradient descent and stochastic gradient descent. In batch gradient descent, the gradient is calculated using the whole dataset at each update step, and is computationally intensive. In stochastic gradient descent, the gradient is calculated using a single sample, and is computationally less intensive. While stochastic gradient descent is not guaranteed to converge to the minimum cost function, it is faster than batch gradient descent and may be a good strategy to use with large datasets. "
   ]
  },
  {
   "cell_type": "code",
   "execution_count": 130,
   "metadata": {
    "collapsed": false
   },
   "outputs": [],
   "source": [
    "class logisticRegression():\n",
    "    def __init__(self, gradient=\"batch\", rate=0.001, stop=2):\n",
    "        if gradient != \"batch\" and gradient != \"stochastic\":\n",
    "            raise ValueError(\"Enter either 'batch' or 'stochastic' for gradient\")\n",
    "        self.gradient = gradient\n",
    "        self.rate = rate\n",
    "        self.stop = stop\n",
    "    def train(self, Xtrain, Ytrain):\n",
    "        def batch(self, Xtrain, Ytrain):\n",
    "            self.errors = []\n",
    "            i = 0\n",
    "            self.iterations = [i]\n",
    "            errBefore = float('inf')\n",
    "            self.w = np.zeros((Xtrain.shape[1], 1))\n",
    "            q = np.dot(np.diag(Ytrain[:, 0]), Xtrain)\n",
    "            errAfter = loss(q, self.w)\n",
    "            self.errors.append(errAfter)\n",
    "            while abs(errBefore - errAfter) > 2:\n",
    "                errBefore = errAfter\n",
    "                g = gradient(Xtrain, Ytrain, self.w, q)\n",
    "                if callable(self.rate):\n",
    "                    step = self.rate(i)\n",
    "                else:\n",
    "                    step = self.rate\n",
    "                self.w = self.w - step * g \n",
    "                errAfter = loss(q, self.w)\n",
    "                self.errors.append(errAfter)\n",
    "                i += 1\n",
    "                self.iterations.append(i)\n",
    "        def stochastic(self, Xtrain, Ytrain, repeat=3):\n",
    "            k = 0\n",
    "            self.errors = []\n",
    "            self.iterations = [k]\n",
    "            self.w = np.zeros((Xtrain.shape[1], 1))\n",
    "            errBefore = float('inf')\n",
    "            q = np.dot(np.diag(Ytrain[:, 0]), Xtrain)\n",
    "            errAfter = loss(q, self.w)\n",
    "            self.errors.append(errAfter)\n",
    "            for r in range(repeat):\n",
    "                for i in range(len(Xtrain)):\n",
    "                    errBefore = errAfter\n",
    "                    x = Xtrain[[i], :]\n",
    "                    y = Ytrain[[i]]\n",
    "                    g = gradient(x, y, self.w)\n",
    "                    if callable(self.rate):\n",
    "                        step = self.rate(i)\n",
    "                    else:\n",
    "                        step = self.rate\n",
    "                    self.w = self.w - step * g\n",
    "                    errAfter = loss(q, self.w)\n",
    "                    self.errors.append(errAfter)\n",
    "                    k += 1\n",
    "                    self.iterations.append(k)\n",
    "        def gradient(x, y, w, q=None):\n",
    "            if q is None:\n",
    "                q = np.dot(y, x)\n",
    "            g = np.dot(-np.transpose(q), (1 / (np.exp(np.dot(q, w)) + 1)))\n",
    "            return g \n",
    "        def loss(q, w):\n",
    "            return np.sum(np.log(1 + np.exp(-np.dot(q, w))))\n",
    "        if self.gradient == \"batch\":\n",
    "            batch(self, Xtrain, Ytrain)\n",
    "        else:\n",
    "            stochastic(self, Xtrain, Ytrain)\n",
    "    def plot(self):\n",
    "        plt.plot(self.iterations, self.errors)\n",
    "        plt.xlabel(\"Iterations\")\n",
    "        plt.ylabel(\"Cross Entropy\")\n",
    "        plt.title(\"Cross Entropy vs Iterations, gradient = %s\" % (self.gradient))\n",
    "        plt.show()   \n",
    "    def predict(self, x):\n",
    "        z = np.dot(x, self.w)\n",
    "        p = 1 / (np.exp(-z) + 1)\n",
    "        return p"
   ]
  },
  {
   "cell_type": "markdown",
   "metadata": {},
   "source": [
    "Let us first perform batch gradient descent with a learning rate of $\\alpha = 0.001$ and monitor the cross entropy with the number of iterations."
   ]
  },
  {
   "cell_type": "code",
   "execution_count": 113,
   "metadata": {
    "collapsed": false
   },
   "outputs": [
    {
     "data": {
      "image/png": "[encoded data removed]",
      "text/plain": [
       "<matplotlib.figure.Figure at 0x10f8dba58>"
      ]
     },
     "metadata": {},
     "output_type": "display_data"
    }
   ],
   "source": [
    "logistic1 = logisticRegression(gradient = \"batch\")\n",
    "logistic1.train(XtrainP, Ytrain)\n",
    "logistic1.plot()"
   ]
  },
  {
   "cell_type": "markdown",
   "metadata": {},
   "source": [
    "As expected, the cross entropy decreases with the number of iterations. Let us now evaluate the performance of the $\\beta$ we trained. We can visually inspect the predictions to see if samples that are marked as spam $1$ do indeed have a probability close to $1$, while those marked as ham $-1$ have a probability close to $0$."
   ]
  },
  {
   "cell_type": "code",
   "execution_count": 124,
   "metadata": {
    "collapsed": false
   },
   "outputs": [
    {
     "name": "stdout",
     "output_type": "stream",
     "text": [
      "[[ 0.  ]\n",
      " [ 0.13]\n",
      " [ 0.  ]\n",
      " [ 1.  ]\n",
      " [ 0.01]\n",
      " [ 0.  ]\n",
      " [ 0.76]]\n",
      "[[-1]\n",
      " [-1]\n",
      " [-1]\n",
      " [ 1]\n",
      " [-1]\n",
      " [-1]\n",
      " [ 1]]\n"
     ]
    }
   ],
   "source": [
    "predictions = logistic1.predict(XvaliP)\n",
    "print(np.round(predictions[1:8], 2))\n",
    "print(Yvali[1:8])"
   ]
  },
  {
   "cell_type": "markdown",
   "metadata": {},
   "source": [
    "Indeed, we can see that samples that are spam are predicted to be spam with high probability. Formally, let us evaluate our model by calculating the area under the ROC curve. "
   ]
  },
  {
   "cell_type": "code",
   "execution_count": 125,
   "metadata": {
    "collapsed": false
   },
   "outputs": [
    {
     "name": "stdout",
     "output_type": "stream",
     "text": [
      "0.977175663376\n"
     ]
    }
   ],
   "source": [
    "from sklearn import metrics\n",
    "fpr , tpr, thresholds = metrics.roc_curve(Yvali, predictions, pos_label=1)\n",
    "auc = metrics.auc(fpr, tpr)\n",
    "print(auc)"
   ]
  },
  {
   "cell_type": "markdown",
   "metadata": {},
   "source": [
    "The area under the ROC curve is close to $1$, which means our model performed well and is robust. Now let us run logistic regression again but with a learning rate defined by:\n",
    "\n",
    "$$rate(i) = \\frac{3}{1000 + 5i}$$\n",
    "\n",
    "Where $i$ is the iteration. In some situations it may be preferable to decrease the learning rate with iterations, because models that are closer to the minimum loss function only require a smaller step size. In contrast, if the step size is kept constant, the model may constantly overshoot the model of minimum loss because the step size is too large at the end. From the model we trained above with $\\alpha = 0.001$, we don't seem to have this problem, but let us train another model with decreasing step size anyways to see how the cross entropy behaves with iterations."
   ]
  },
  {
   "cell_type": "code",
   "execution_count": 126,
   "metadata": {
    "collapsed": false
   },
   "outputs": [
    {
     "data": {
      "image/png": "[encoded data removed]",
      "text/plain": [
       "<matplotlib.figure.Figure at 0x10fa26208>"
      ]
     },
     "metadata": {},
     "output_type": "display_data"
    }
   ],
   "source": [
    "%matplotlib inline\n",
    "def f(i):\n",
    "    return (3 / (1000 + 5*i))\n",
    "logistic2 = logisticRegression(gradient=\"batch\", rate=f)\n",
    "logistic2.train(XtrainP, Ytrain)\n",
    "logistic2.plot()"
   ]
  },
  {
   "cell_type": "markdown",
   "metadata": {},
   "source": [
    "We see that performance is not affected, and the final cross entropy when the convergence criteria that the difference in cross entropy between iterations is less than or equal to 2 may actually be less than that with constant learning rate. Although our data is relatively small and performing batch gradient descent did not take a lot of time, let us perform stochastic gradient descent to see how the cross entropy behaves with the number of iterations. "
   ]
  },
  {
   "cell_type": "code",
   "execution_count": 131,
   "metadata": {
    "collapsed": false
   },
   "outputs": [
    {
     "data": {
      "image/png": "[encoded data removed]",
      "text/plain": [
       "<matplotlib.figure.Figure at 0x1105abf98>"
      ]
     },
     "metadata": {},
     "output_type": "display_data"
    }
   ],
   "source": [
    "logistic3 = logisticRegression(gradient = \"stochastic\")\n",
    "logistic3.train(XtrainP, Ytrain)\n",
    "logistic3.plot()"
   ]
  },
  {
   "cell_type": "markdown",
   "metadata": {},
   "source": [
    "One can see that with stochastic gradient descent, it may not be possible to reach the model with minimum loss because we are not leveraging all of our data to calculate the gradient. Nevertheless, stochastic gradient descent may be useful when our data is big and it is sufficient to have a model that roughly approximates that of minimum loss."
   ]
  },
  {
   "cell_type": "markdown",
   "metadata": {
    "collapsed": true
   },
   "source": [
    "## Kernel Logistic Regression"
   ]
  },
  {
   "cell_type": "markdown",
   "metadata": {},
   "source": [
    "Now we shall implement kernel logistic regression. The purpose of applying a kernel is to project your data into higher dimensional space to improve performance. As a motivating example, consider trying to fit a linear decision boundary between class 1 and class 2 in the below plot:"
   ]
  },
  {
   "cell_type": "code",
   "execution_count": 10,
   "metadata": {
    "collapsed": false
   },
   "outputs": [
    {
     "data": {
      "image/png": "[encoded data removed]",
      "text/plain": [
       "<matplotlib.figure.Figure at 0x105ca8160>"
      ]
     },
     "metadata": {},
     "output_type": "display_data"
    }
   ],
   "source": [
    "%matplotlib inline\n",
    "import matplotlib.pyplot as plt\n",
    "import numpy as np\n",
    "x1 = [-5, -4, -3, 3, 4, 5]\n",
    "y1 = np.linspace(0, 0, 6, endpoint=True)\n",
    "x2 = [-2, -1, 0, 1, 2]\n",
    "y2 = np.linspace(0, 0, 5, endpoint=True)\n",
    "plt.scatter(x1, y1, marker=\"o\", color=\"blue\", label = \"class 1\")\n",
    "plt.scatter(x2, y2, marker=\"x\", color=\"red\", label = \"class 2\")\n",
    "plt.legend(loc=\"upper right\")\n",
    "plt.show()"
   ]
  },
  {
   "cell_type": "markdown",
   "metadata": {
    "collapsed": true
   },
   "source": [
    "It cannot be done without having a high training error. Instead, let us tranform our data using the following mapping:\n",
    "\n",
    "$$f: (x, y) \\rightarrow (x, x^{2})$$"
   ]
  },
  {
   "cell_type": "code",
   "execution_count": 15,
   "metadata": {
    "collapsed": false
   },
   "outputs": [
    {
     "data": {
      "image/png": "[encoded data removed]",
      "text/plain": [
       "<matplotlib.figure.Figure at 0x1061367f0>"
      ]
     },
     "metadata": {},
     "output_type": "display_data"
    }
   ],
   "source": [
    "x1 = np.array([-5, -4, -3, 3, 4, 5])\n",
    "y1 = np.square(x1)\n",
    "x2 = np.array([-2, -1, 0, 1, 2])\n",
    "y2 = np.square(x2)\n",
    "plt.scatter(x1, y1, marker=\"o\", color=\"blue\", label = \"class 1\")\n",
    "plt.scatter(x2, y2, marker=\"x\", color=\"red\", label = \"class 2\")\n",
    "plt.legend(loc=\"lower right\")\n",
    "plt.show()"
   ]
  },
  {
   "cell_type": "markdown",
   "metadata": {
    "collapsed": true
   },
   "source": [
    "Now our data is linearly separable! The purpose of a kernel is to transform the data into linearly separable dimensions. The kernel we are going to use in this tutorial will be the radial basis function, which projects the features into infinite dimensional space. \n",
    "\n",
    "$$K(x^{(i)}, x) = e^{-\\frac{||x^{(i)} - x ||^{2}}{2\\sigma^{2}}}$$\n",
    "\n",
    "Where $x^{(i)} \\in \\mathbb{R}^{n x 1}$ is a vector representing training sample $i$ in the dataset with $n$ features and $x \\in \\mathbb{R}^{n x 1}$ could be a vector representing a test/prediction sample. \n",
    "\n",
    "A kernel function $K$ can also be interpreted as a similarity measure. For example, vectors that are similar will produce a large $K(x^{(i)}, x)$, while those that are dissimilar will produce a small $K(x^{(i)}, x)$. In regular logistic regression, our functional margin is:\n",
    "\n",
    "$$z^{(i)} = y^{(i)}f(x^{(i)}) = y^{(i)}x^{(i)}\\beta$$\n",
    "\n",
    "With kernel logistic regression with a quadratic kernel, the $f(x^{(i)})$ is now replaced by:\n",
    "\n",
    "$$f(x^{(i)}) = \\sum_{j=1}^{m}\\alpha_{i}K(x^{(i)}, x^{(j)})$$\n",
    "\n",
    "Where $m$ is the number of training samples and $\\alpha$ is the new weight we will be training. Notice that $\\alpha \\in \\mathbb{R}^{m x 1}$ instead of $\\beta \\in \\mathbb{R}^{n x 1}$ in regular logistic regression. Returning to the concept of viewing the kernel as a similarity measure, we can observe that what the kernel is doing is boosting the weight $\\alpha_{j}$ if $x^{(i)}$ and $x^{(j)}$ are similar.\n",
    "\n",
    "Let us now derive the stochastic gradient descent update equation for $\\alpha_{i}$ using the same logistic loss for one sample $j$:\n",
    "\n",
    "$$ L^{(j)} = ln(1 + e^{-y^{(j)}\\sum_{i = 1}^{n}\\alpha_{j}K(x^{(i)}, x^{(j)})})$$\n",
    "\n",
    "With $z^{(j)} = y^{(j)}\\sum_{i = 1}^{n}\\alpha_{j}K(x^{(i)}, x^{(j)})$\n",
    "\n",
    "$$\\frac{\\partial L}{\\partial \\alpha_{i}} = \\frac{e^{-z^{(i)}}}{1 + e^{-z^{(i)}}} -y^{(i)}K(x^{(i)}, x^{(i)}) = -\\frac{1}{1 + e^{z{(i)}}}y^{(i)}(x^{(i)T}x^{(i)} + 1)^{2}$$\n"
   ]
  },
  {
   "cell_type": "markdown",
   "metadata": {},
   "source": [
    "We can further improve our regression by incorporating ridge regression. The purpose of ridge regression is to prevent overfitting the model to the training data. We do so by incrementally decreasing the size of the weights $\\alpha$ by a factor $\\gamma$ during stochastic gradient descent. Given the learning rate $\\eta$ our update equation is thus:\n",
    "\n",
    "$$\\alpha_{i} := \\alpha_{i} - \\gamma \\alpha_{i} - \\eta \\frac{\\partial L}{\\partial \\alpha_{i}}$$ \n",
    "$$\\alpha_{h} := \\alpha_{h} - \\gamma \\alpha_{h} \\text{ for } h \\ne i$$\n",
    "\n",
    "We will be implementing kernel logistic ridge regression using the same email dataset as before. As always, let us load up the dataset and preprocess it via standardization."
   ]
  },
  {
   "cell_type": "code",
   "execution_count": 1,
   "metadata": {
    "collapsed": true
   },
   "outputs": [],
   "source": [
    "from scipy import io\n",
    "import matplotlib.pyplot as plt\n",
    "import numpy as np\n",
    "\n",
    "data = io.loadmat('datasets/spam.mat')\n",
    "Xtrain = data['Xtrain']\n",
    "Ytrain = data['Ytrain']\n",
    "m = Xtrain.shape[0]\n",
    "idx = np.random.permutation(m)\n",
    "Xtrain = data['Xtrain'][idx, :]\n",
    "Ytrain = data['Ytrain'][idx, :]\n",
    "Xvali = Xtrain[round(0.9*m):m, :]\n",
    "Yvali = Ytrain[round(0.9*m):m, :]\n",
    "Xtrain = Xtrain[:round(0.9*m), :]\n",
    "Ytrain = Ytrain[:round(0.9*m), :]\n",
    "\n",
    "def standardize(a):\n",
    "    return (a - np.mean(a)) / np.std(a)\n",
    "\n",
    "XtrainP = np.apply_along_axis(standardize, 0, Xtrain)\n",
    "XvaliP = np.apply_along_axis(standardize, 0, Xvali)"
   ]
  },
  {
   "cell_type": "markdown",
   "metadata": {},
   "source": [
    "And now implement kernel logistic ridge regression (KLRR):"
   ]
  },
  {
   "cell_type": "code",
   "execution_count": 68,
   "metadata": {
    "collapsed": false
   },
   "outputs": [],
   "source": [
    "import sys\n",
    "\n",
    "class KLRR():\n",
    "    def __init__(self, rate=2.5, iterations=2, kernel=\"quadratic\", gamma=1e-5, sigma=1):\n",
    "        self.rate = rate\n",
    "        self.iterations = iterations\n",
    "        self.kernel = kernel\n",
    "        self.gamma = gamma\n",
    "        self.sigma = sigma\n",
    "    def train(self, Xtrain, Ytrain, Xvalidate=None, Yvalidate=None):\n",
    "        def kernel(self, xData, xsample):\n",
    "            diff = np.sum(np.square(xData - xsample))\n",
    "            return np.exp(-diff / (2*(self.sigma)**2))\n",
    "        def clamp(x):\n",
    "            if x <= 0:\n",
    "                x = max(x, -10000)\n",
    "            else:\n",
    "                x = min(x, 10000)\n",
    "            return x\n",
    "        def gradient(y, x, Xtrain, w):\n",
    "            kernels = list(map(lambda u: kernel(self, u, x), Xtrain))\n",
    "            kernels = np.array(kernels).reshape(1, len(kernels))\n",
    "            z = y*np.dot(kernels, w)\n",
    "            z = clamp(z)\n",
    "            S = 1 / (1 + np.exp(z))\n",
    "            gradient = -S*y\n",
    "            return gradient\n",
    "        counter = 0\n",
    "        self.Xtrain = Xtrain\n",
    "        self.trainIterations = []\n",
    "        self.trainErrors = []\n",
    "        self.validateErrors = []\n",
    "        self.validateIterations = []\n",
    "        self.w = np.array([1e-10]*Xtrain.shape[0])\n",
    "        kernelMatrix = np.empty([Xtrain.shape[0], Xtrain.shape[0]])\n",
    "        for i in range(len(Xtrain)):\n",
    "            rowKernel = []\n",
    "            for j in range(len(Xtrain)):\n",
    "                k = kernel(self, Xtrain[i], Xtrain[j])\n",
    "                rowKernel.append(k)\n",
    "            kernelMatrix[i] = rowKernel\n",
    "        z0 = np.dot(np.diag(Ytrain[:, 0]), kernelMatrix)\n",
    "        if Xvalidate is not None and Yvalidate is not None:\n",
    "            kernelMatrix2 = np.empty([Xvalidate.shape[0], Xtrain.shape[0]])\n",
    "            for i in range(len(Xvalidate)):\n",
    "                row = []\n",
    "                for j in range(len(Xtrain)):\n",
    "                    k = kernel(self, Xtrain[j], Xvalidate[i])\n",
    "                    row.append(k)\n",
    "                kernelMatrix2[i] = np.array(row)        \n",
    "        for r in range(self.iterations):\n",
    "            for i in range(len(Xtrain)):\n",
    "                y = Ytrain[[i]]\n",
    "                x = Xtrain[[i], :]\n",
    "                g = gradient(y, Xtrain[i], Xtrain, self.w)\n",
    "                self.w[i] = self.w[i] - self.gamma * self.w[i] - self.rate * g\n",
    "                self.w[:i] = self.w[:i] - self.gamma * self.w[i]\n",
    "                self.w[i+1:len(self.w)] = self.w[i+1:len(self.w)]\n",
    "                - self.gamma*self.w[i+1:len(self.w)]\n",
    "                z = np.dot(z0, self.w)\n",
    "                z = np.array(list(map(clamp, z)))\n",
    "                error = np.sum(np.log(1 + np.exp(-z)))\n",
    "                self.trainErrors.append(error)\n",
    "                counter += 1\n",
    "                self.trainIterations.append(counter)\n",
    "                if Xvalidate is not None and Yvalidate is not None and counter % 100 == 0:\n",
    "                    z = np.dot(np.diag(Yvalidate[:, 0]), np.dot(kernelMatrix2, self.w))\n",
    "                    self.validateErrors.append(np.sum(np.log(1 + np.exp(-z))))\n",
    "                    self.validateIterations.append(counter)\n",
    "    def plot(self):\n",
    "        if len(self.validateIterations) == 0:\n",
    "            plt.plot(self.trainIterations, self.trainErrors)\n",
    "            plt.xlabel(\"Iterations\")\n",
    "            plt.ylabel(\"Cross Entropy\")\n",
    "            plt.title(\"Cross Entropy vs Iterations\")\n",
    "            plt.show()  \n",
    "        else: \n",
    "            fig = plt.figure()\n",
    "            ax = fig.add_subplot(121)\n",
    "            ax.plot(self.trainIterations, self.trainErrors, color=\"blue\", \n",
    "                    label=\"Training\")\n",
    "            plt.title(\"Cross Entropy vs Iterations\")\n",
    "            plt.legend(loc=\"upper right\")\n",
    "            ax = fig.add_subplot(122)\n",
    "            ax.plot(self.validateIterations, self.validateErrors, color=\"red\",\n",
    "                    label=\"Validate\")\n",
    "            plt.title(\"Cross Entropy vs Iterations\")\n",
    "            plt.legend(loc=\"upper right\")\n",
    "            plt.show()\n",
    "    def predict(self, x):\n",
    "        predictions = []\n",
    "        for sample in x:\n",
    "            diff = np.sum(np.square(self.Xtrain - sample), axis=1)\n",
    "            kernel = np.exp(-diff / (2*(self.sigma)**2))\n",
    "            f = np.dot(kernel, self.w)\n",
    "            predictions.append(1 / (np.exp(-f) + 1))\n",
    "        return predictions"
   ]
  },
  {
   "cell_type": "markdown",
   "metadata": {
    "collapsed": true
   },
   "source": [
    "Now let us train and plot the training and validation cross entropy with the number of iterations."
   ]
  },
  {
   "cell_type": "code",
   "execution_count": 69,
   "metadata": {
    "collapsed": false
   },
   "outputs": [
    {
     "data": {
      "image/png": "[encoded data removed]",
      "text/plain": [
       "<matplotlib.figure.Figure at 0x14e85cf28>"
      ]
     },
     "metadata": {},
     "output_type": "display_data"
    }
   ],
   "source": [
    "%matplotlib inline\n",
    "klrr = KLRR(iterations=2, sigma=1.5)\n",
    "klrr.train(XtrainP, Ytrain, XvaliP, Yvali)\n",
    "klrr.plot()"
   ]
  },
  {
   "cell_type": "markdown",
   "metadata": {
    "collapsed": false
   },
   "source": [
    "We see that as training error decreases, validation error does not increase, indicating that we are not over-fitting. Again let us predict on our validation dataset and evaluate how the model performed:"
   ]
  },
  {
   "cell_type": "code",
   "execution_count": 72,
   "metadata": {
    "collapsed": false
   },
   "outputs": [
    {
     "name": "stdout",
     "output_type": "stream",
     "text": [
      "[ 0.    0.92  0.39  0.29  0.52  0.5   0.01  0.8   0.76  0.5   0.34  0.5\n",
      "  0.02  0.5   0.86]\n",
      "[[-1  1 -1 -1  1 -1 -1  1  1 -1 -1  1 -1  1  1]]\n"
     ]
    }
   ],
   "source": [
    "predictions = klrr.predict(XvaliP)\n",
    "print(np.round(predictions[100:115], 2))\n",
    "print(np.transpose(np.array(Yvali[100:115])))"
   ]
  },
  {
   "cell_type": "markdown",
   "metadata": {},
   "source": [
    "As expected, samples that are marked 1 (spam) are predicted to be spam with higher probability. Those marked -1 (ham) are predicted to be spam with lower probability. Let us formally evaluate the model with AUC. "
   ]
  },
  {
   "cell_type": "code",
   "execution_count": 73,
   "metadata": {
    "collapsed": false
   },
   "outputs": [
    {
     "name": "stdout",
     "output_type": "stream",
     "text": [
      "0.936121781192\n"
     ]
    }
   ],
   "source": [
    "from sklearn import metrics\n",
    "fpr , tpr, thresholds = metrics.roc_curve(Yvali, predictions, pos_label=1)\n",
    "auc = metrics.auc(fpr, tpr)\n",
    "print(auc)"
   ]
  },
  {
   "cell_type": "markdown",
   "metadata": {},
   "source": [
    "Indeed, the AUC supports the usage of a kernel logistic ridge regression in this dataset! This concludes the regression tutorial!"
   ]
  }
 ],
 "metadata": {
  "kernelspec": {
   "display_name": "Python 3",
   "language": "python",
   "name": "python3"
  },
  "language_info": {
   "codemirror_mode": {
    "name": "ipython",
    "version": 3
   },
   "file_extension": ".py",
   "mimetype": "text/x-python",
   "name": "python",
   "nbconvert_exporter": "python",
   "pygments_lexer": "ipython3",
   "version": "3.5.2"
  }
 },
 "nbformat": 4,
 "nbformat_minor": 0
}
