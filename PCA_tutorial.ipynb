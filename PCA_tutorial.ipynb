{
 "cells": [
  {
   "cell_type": "markdown",
   "metadata": {},
   "source": [
    "# Principal Component Analysis (PCA) Tutorial\n",
    "### Author: _Calvin Chi_"
   ]
  },
  {
   "cell_type": "markdown",
   "metadata": {},
   "source": [
    "# Why PCA works\n",
    "The purpose of principal component analysis (PCA) is to perform dimensionality reduction by projecting data points onto new dimensions that capture maximum variance. PCA could be used as a visualization technique for understanding the hidden and simplified structure that underlie data. The new dimensions (axes) that PCA projects data points to are orthogonal eigenvectors. How do you project data points to another dimension (axis)? Before we answer that, let us review a linear algebra concept. Let $A$ be a matrix where each column is treated as a vector and let $X$ be a matrix of data points. \n",
    "$$A = \\begin{bmatrix}\n",
    "1&1\\\\\n",
    "1&-1\\\\\n",
    "\\end{bmatrix}\\\\\n",
    "X = \\begin{bmatrix}\n",
    "1&1\\\\\n",
    "2&2\\\\\n",
    "3&3\\\\\n",
    "4&4\\\\\n",
    "2&3\\\\\n",
    "3&2\\\\\n",
    "\\end{bmatrix}$$\n",
    "\n",
    "Plotting the vectors and data points: "
   ]
  },
  {
   "cell_type": "code",
   "execution_count": 2,
   "metadata": {
    "collapsed": false
   },
   "outputs": [
    {
     "data": {
      "image/png": "[encoded data removed]",
      "text/plain": [
       "<matplotlib.figure.Figure at 0x55bc7d0>"
      ]
     },
     "metadata": {},
     "output_type": "display_data"
    }
   ],
   "source": [
    "%matplotlib inline\n",
    "import numpy as np\n",
    "import matplotlib.pyplot as plt\n",
    "\n",
    "x = np.array([[1, 1], [2, 2], [3, 3], [4, 4], [2, 3], [3, 2]])\n",
    "A = np.array([[1, 1], [1, -1]])\n",
    "fig, ax = plt.subplots()\n",
    "plt.scatter(x[:, 0], x[:, 1])\n",
    "plt.ylim([-3, 5])\n",
    "plt.xlim([0, 5])\n",
    "plt.title(\"Data\")\n",
    "plt.gca().set_aspect('equal', adjustable='box')\n",
    "ax.quiver((0, 0), (0, 0), (1, 1), (1, -1), scale_units = 'xy', scale = (0.45), color = 'r')\n",
    "plt.show()"
   ]
  },
  {
   "cell_type": "markdown",
   "metadata": {},
   "source": [
    "The operation $XA$ rotates the data points in $X$ such that they are plotted against the vectors in $A$ as the axes. In other words, $A$ is a rotation matrix. Let us illustrate that: "
   ]
  },
  {
   "cell_type": "code",
   "execution_count": 10,
   "metadata": {
    "collapsed": false
   },
   "outputs": [
    {
     "data": {
      "image/png": "[encoded data removed]",
      "text/plain": [
       "<matplotlib.figure.Figure at 0x56751d0>"
      ]
     },
     "metadata": {},
     "output_type": "display_data"
    }
   ],
   "source": [
    "rotated = x.dot(A)\n",
    "plt.scatter(rotated[:, 0], rotated[:, 1])\n",
    "plt.ylim([-2, 2])\n",
    "plt.xlim([0, 10])\n",
    "plt.title(\"Rotated Data\")\n",
    "plt.gca().set_aspect('equal', adjustable='box')\n",
    "plt.show()"
   ]
  },
  {
   "cell_type": "markdown",
   "metadata": {},
   "source": [
    "PCA performs operations similar to the one just illustrated. To iterate, PCA plots data points against axes that capture maximum variance. We will later see that these axes are just eigenvectors, and they can be found either through singular value decomposition (SVD) of the column-centered data matrix or through finding the eigenvectors of the covariance matrix. Assume $X \\in \\mathbb{R}^{nxd}$ is our data matrix and we have already found these eigenvectors contained as columns in the matrix called $U \\in \\mathbb{R}^{dxk}$. Let us assume $n$ = number of data points and $d$ = features. To plot the data against one eigenvector, we would pick a column $e$ from $U$ and perform the following operation: \n",
    "$\\hat{X} = e^TX^T$, where $e^T \\in \\mathbb{R}^{1xd}$ and $\\hat{X} \\in \\mathbb{R}^{1xn}$. We can see that after this matrix multiplication, each data point is now represented by one feature instead of $k$ features, thus achieving dimensionality reduction. Now we show the proof that eigenvectors are the dimenions that maximize variance. "
   ]
  },
  {
   "cell_type": "markdown",
   "metadata": {},
   "source": [
    "$X \\in \\mathbb{R}^{nxd}$ = items by features data matrix (centered)\n",
    "\n",
    "$e$ = dimension(vector) that data points are projected to\n",
    "$$\\frac{1}{n}\\sum_{i=1}^{n}\\Big(\\sum_{j=1}^{d}x_{ij}e_j - \\mu\\Big)^2 = \\frac{1}{n}\\sum_{i=1}^{n}\\Big(\\sum_{j=1}^{d}x_{ij}e_j\\Big)^2\\\\\n",
    "V = \\frac{1}{n}\\sum_{i=1}^{n}\\Big(\\sum_{j=1}^{d}x_{ij}e_j\\Big)^2 - \\lambda\\bigg(\\Big(\\sum_{k=1}^{d}e_j^2\\Big)-1\\bigg)\\\\\n",
    "\\frac{\\partial V}{\\partial e_{a}} = \\frac{2}{n}\\sum_{i=1}^{n}\\Big(\\sum_{j=1}^{d}x_{ij}e_j\\Big)x_{ia} - 2\\lambda e_a = 0\\\\\n",
    "2\\sum_{i=1}^{d}e_j\\Big(\\frac{1}{n}\\sum_{i=1}^{n}x_{ia}x_{ij}\\Big) = 2\\lambda e_a\\\\\n",
    "\\begin{Bmatrix}\n",
    "\\sum_{j=1}^{d}cov(1, \\textit{j})e_j = \\lambda e_1\\\\\n",
    "\\vdots\\\\\n",
    "\\sum_{j=1}^{d}cov(d, \\textit{j})e_j = \\lambda e_d\\\\\n",
    "\\end{Bmatrix}\\\\\n",
    "\\Sigma e = \\lambda e$$\n",
    "\n",
    "The first equation comes from the definition of variance of points plotted against a vector. Since the data is assumed to be centered by column(features), the mean of the projected points $\\mu$ is equal to zero. The second equation applies the method of Lagrange multiplers (constraint: $\\|e\\|_{2} = 1$) to solve for $e$ that would maximize variance. We can observe from the end result that $e$ must be an eigenvector and $\\lambda$ must be an eigenvalue from definition of eigenvector and eigenvalue. The last equation rewrites the result in matrix notation, where $\\Sigma$ is the feature covariance matrix. Let us verify the result in the last line through an example calculation: "
   ]
  },
  {
   "cell_type": "code",
   "execution_count": 6,
   "metadata": {
    "collapsed": false
   },
   "outputs": [
    {
     "name": "stdout",
     "output_type": "stream",
     "text": [
      "Toy data:\n",
      "[[ 0.5         0.51706651]\n",
      " [ 1.          1.07165469]\n",
      " [ 2.          1.73323622]\n",
      " [ 3.          2.87334892]\n",
      " [ 4.          4.19179732]]\n"
     ]
    },
    {
     "data": {
      "image/png": "[encoded data removed]",
      "text/plain": [
       "<matplotlib.figure.Figure at 0x58ad650>"
      ]
     },
     "metadata": {},
     "output_type": "display_data"
    }
   ],
   "source": [
    "import random\n",
    "random.seed(1)\n",
    "noise = np.random.normal(0, 0.2, 5)\n",
    "x = np.array([[0.5, 0.5 + noise[0]], [1, 1 + noise[1]], [2, 2 + noise[2]], [3, 3 + noise[3]], [4, 4 + noise[4]]])\n",
    "print \"Toy data:\"\n",
    "print x\n",
    "plt.scatter(x[:, 0], x[:, 1])\n",
    "plt.ylim([0, 5])\n",
    "plt.xlim([0, 5])\n",
    "plt.title(\"Data\")\n",
    "plt.gca().set_aspect('equal', adjustable='box')\n",
    "plt.show()"
   ]
  },
  {
   "cell_type": "code",
   "execution_count": 7,
   "metadata": {
    "collapsed": false
   },
   "outputs": [
    {
     "name": "stdout",
     "output_type": "stream",
     "text": [
      "Feature covariance matrix: \n",
      "[[ 1.64        1.67419575]\n",
      " [ 1.67419575  1.73376473]]\n"
     ]
    }
   ],
   "source": [
    "x_centered = x - x.mean(axis=0)\n",
    "XTX = x_centered.T.dot(x_centered)\n",
    "feature_cov = XTX/5\n",
    "print \"Feature covariance matrix: \"\n",
    "print feature_cov"
   ]
  },
  {
   "cell_type": "code",
   "execution_count": 11,
   "metadata": {
    "collapsed": true
   },
   "outputs": [],
   "source": [
    "U, S, V = np.linalg.svd(feature_cov)\n",
    "#U = eigenvectors to project points to produce reduced item feature vector\n",
    "#S = eigenvalues associated with eigenvectors\n",
    "left = feature_cov.dot(U[:, 0])\n",
    "right = S[0]*U[:, 0]"
   ]
  },
  {
   "cell_type": "markdown",
   "metadata": {},
   "source": [
    "$\\Sigma e$ is:  "
   ]
  },
  {
   "cell_type": "code",
   "execution_count": 12,
   "metadata": {
    "collapsed": false
   },
   "outputs": [
    {
     "data": {
      "text/plain": [
       "array([-2.34359916, -2.41014547])"
      ]
     },
     "execution_count": 12,
     "metadata": {},
     "output_type": "execute_result"
    }
   ],
   "source": [
    "left "
   ]
  },
  {
   "cell_type": "markdown",
   "metadata": {},
   "source": [
    "$\\lambda e$ is:  "
   ]
  },
  {
   "cell_type": "code",
   "execution_count": 10,
   "metadata": {
    "collapsed": false
   },
   "outputs": [
    {
     "data": {
      "text/plain": [
       "array([-2.34359916, -2.41014547])"
      ]
     },
     "execution_count": 10,
     "metadata": {},
     "output_type": "execute_result"
    }
   ],
   "source": [
    "right"
   ]
  },
  {
   "cell_type": "markdown",
   "metadata": {},
   "source": [
    "Which verifies the equivalence of the result in the last line. So far we have talked about the role of eigenvectors in PCA, but not the eigenvalues. Let us talk about the meaning of eigenvalues $\\lambda$. In PCA, the eigenvalue $\\lambda$ of an eigenvector is the variance of the projected points against that eigenvector. Let us proof this statement by starting with the variance of projected points: \n",
    "$$\\sigma^2 = \\frac{1}{n}\\sum_{i=1}^{n}\\Big(\\sum_{j=1}^{d}x_{ij}e_{j} - \\mu \\Big)^2 = \\frac{1}{n}\\sum_{i=1}^{n}\\Big(\\sum_{j=1}^{d}x_{ij}e_{j}\\Big)^2$$\n",
    "$$=\\frac{1}{n}\\sum_{i=1}^{n}\\Big(\\sum_{j=1}^{d}x_{ij}e_{j}\\Big)(\\sum_{a=1}^{d}x_{ia}e_{a}\\Big)$$\n",
    "$$=\\sum_{a=1}^{d}\\sum_{j=1}^{d}\\Big(\\frac{1}{n}\\sum_{i=1}^{n}x_{ia}x_{ij}\\Big)e_{j}e_{a}$$\n",
    "$$=\\sum_{a=1}^{d}\\Big(\\sum_{j=1}^{d}cov(a, j)e_{j}\\Big)e_{a}$$\n",
    "$$=\\sum_{a=1}^{d}\\Big(\\lambda e_{a}\\Big)e_{a}$$\n",
    "$$=\\lambda \\|e\\|^2 = \\lambda$$\n",
    "Let us verify this via an example calculation: "
   ]
  },
  {
   "cell_type": "code",
   "execution_count": 13,
   "metadata": {
    "collapsed": false
   },
   "outputs": [
    {
     "name": "stdout",
     "output_type": "stream",
     "text": [
      "Variance of reduced item vector: \n",
      "3.36173440585\n",
      "Eigenvalue of eigenvector projected to: \n",
      "3.36173440585\n"
     ]
    }
   ],
   "source": [
    "reduced_item = U[:, 0].T.dot(x_centered.T)\n",
    "variance = reduced_item.dot(reduced_item.T)/5\n",
    "print \"Variance of reduced item vector: \"\n",
    "print variance\n",
    "print \"Eigenvalue of eigenvector projected to: \"\n",
    "print S[0]"
   ]
  },
  {
   "cell_type": "markdown",
   "metadata": {},
   "source": [
    "In PCA terminology, the first principle component refers to the dimension capturing the maximum variance, the second principle component refers to the dimension capturing the second most variance, and so on. In PCA, one would project the data onto dimensions that capture maximum variance to capture the most important structure of the data. "
   ]
  },
  {
   "cell_type": "markdown",
   "metadata": {},
   "source": [
    "---\n",
    "# How to perform PCA\n",
    "Let us now talk about how to perform PCA, and there are many ways one can perform PCA. The first step in PCA is to compute the eigenvectors and eigenvalues of your data matrix $X$. There are two methods of computing the eigenvectors and eigenvalues. In the first method, one could directly perform singular value decomposition (SVD) on the data matrix $X$.\n",
    "\n",
    "$$X = USV^T$$\n",
    "\n",
    "$$U \\in \\mathbb{R}^{nxk}$$\n",
    "$$S \\in \\mathbb{R}^{kxk}$$\n",
    "$$V^T \\in \\mathbb{R}^{kxd}$$\n",
    "\n",
    "$U$ and $V$ are orthonormal matrices containing eigenvectors, and $S$ is a diagonal matrix containing eigenvalues, which are ordered in decreasing value as you transverse down the diagonal from top left to bottom right. Each column in $U$ is an eigenvector, and it is associated with an eigenvalue in $S$. Specifically, the eigenvector $U_1$ would correspond to the eigenvalue $S_{11}$. In contrast, each row in $V^T$ is an eigenvector, and it too is associated with an eigenvalue. For example, the eigenvector $V_1$ would correspond to the eigenvalue $S_{11}$. \n",
    "\n",
    "In the second method, one would compute a rough covariance matrices of the data matrix $X$ first, then perform SVD on each covariance matrix to solve for $U$ and $V$. I used the term \"rough\" to describe the covariance matrices because in the equations below, I do not divide the $XX^T$ by _d_ or $X^TX$ by _n_, simply because this ensures that $S_1 = S_2 = S^2$. However, if I were to calculate the proper covariance matrices, the eigenvectors I get from their SVD would still be the same. Concretely: \n",
    "\n",
    "$$Cov1 = XX^T\\\\\n",
    "Cov2 = X^{T}X\\\\\n",
    "U_1S_1V_{1}^T = Cov1\\\\\n",
    "U_2S_2V_{2}^T = Cov2\\\\$$\n",
    "\n",
    "We can show that $U_1 = U$ and $U_2 = V$: \n",
    "\n",
    "$$XX^T = USV^TVSU^T = US^2U^T\\\\ \n",
    "X^TX = VSU^TUSV^T = VS^2V^T\\\\$$\n",
    "\n",
    "Which means that: \n",
    "$$S_1 = S_2\\\\\n",
    "S = S_1S^{-1}\\\\$$\n",
    "\n",
    "\n",
    "Let us run some actual code to demonstrate their equivalence: "
   ]
  },
  {
   "cell_type": "code",
   "execution_count": 15,
   "metadata": {
    "collapsed": false
   },
   "outputs": [
    {
     "name": "stdout",
     "output_type": "stream",
     "text": [
      "Method 1 U\n",
      "[[-0.54492313 -0.24183089]\n",
      " [-0.36292236 -0.3566404 ]\n",
      " [-0.07719133  0.68601659]\n",
      " [ 0.29222002  0.36846187]\n",
      " [ 0.69281679 -0.45600717]]\n",
      "Method 2 U\n",
      "[[-0.54492313 -0.24183089]\n",
      " [-0.36292236 -0.3566404 ]\n",
      " [-0.07719133  0.68601659]\n",
      " [ 0.29222002  0.36846187]\n",
      " [ 0.69281679 -0.45600717]]\n",
      "Method 1 V\n",
      "[[ 0.69713989  0.71693512]\n",
      " [ 0.71693512 -0.69713989]]\n",
      "Method 2 V\n",
      "[[-0.69713989 -0.71693512]\n",
      " [-0.71693512  0.69713989]]\n",
      "Method 1 S\n",
      "[[ 4.09983805  0.        ]\n",
      " [ 0.          0.24525827]]\n",
      "Method 2 S\n",
      "[[ 4.09983805  0.        ]\n",
      " [ 0.          0.24525827]]\n"
     ]
    }
   ],
   "source": [
    "#Method 1\n",
    "U, S, V = np.linalg.svd(x_centered, full_matrices=0)\n",
    "S = np.diag(S)\n",
    "Sinv = np.linalg.inv(S)\n",
    "\n",
    "#Method 2\n",
    "XXT = np.dot(x_centered, x_centered.T)\n",
    "U1, S1, V1 = np.linalg.svd(XXT)\n",
    "XTX = np.dot(x_centered.T, x_centered)\n",
    "U2, S2, V2 = np.linalg.svd(XTX)\n",
    "S2 = np.diag(S2)\n",
    "print \"Method 1 U\"\n",
    "print U\n",
    "print \"Method 2 U\"\n",
    "print U1[:, :2]\n",
    "print \"Method 1 V\"\n",
    "print V\n",
    "print \"Method 2 V\"\n",
    "print U2\n",
    "print \"Method 1 S\"\n",
    "print S\n",
    "print \"Method 2 S\"\n",
    "print S2.dot(Sinv)"
   ]
  },
  {
   "cell_type": "markdown",
   "metadata": {},
   "source": [
    "Once we have our eigenvectors and eigenvalues, the next step will be to project our data onto the eigenvectors. There are two different ways of projecting the data to $\\textit{k}$ principle components to arrive at the following result: \n",
    "$$features = \\mathbb{R}^{kxd}\\\\\n",
    "items = \\mathbb{R}^{kxn}$$\n",
    "1. Multiplying the appropriate eigenvector-containing matrices by the data: \n",
    "$$features = \\hat{U}^TX\\\\\n",
    "items = \\hat{V}^TX^T\\\\$$\n",
    "2. Multiplying $S$ by $\\hat{V}^T$ or $S$ by $\\hat{U}^T$:\n",
    "$$U^TX = U^TUSV^T = SV^T\\\\\n",
    "features = S\\hat{V}^T\\\\\n",
    "V^TX^T = V^TVSU^T = SU^T\\\\\n",
    "items = S\\hat{U}^T\\\\$$"
   ]
  },
  {
   "cell_type": "markdown",
   "metadata": {},
   "source": [
    "The hat symbol above a matrices indicates matrices with the top $k$ eigenvectors chosen, thus $\\hat{U} \\subseteq U$. "
   ]
  },
  {
   "cell_type": "code",
   "execution_count": 16,
   "metadata": {
    "collapsed": false
   },
   "outputs": [
    {
     "name": "stdout",
     "output_type": "stream",
     "text": [
      "Method 1 feature vector: \n",
      "[[ 2.85816065  2.9393179 ]]\n",
      "Method 2 feature vector: \n",
      "[[ 2.85816065  2.9393179 ]]\n",
      "Method 1 item vector: \n",
      "[[-2.23409657 -1.48792288 -0.31647196  1.19805478  2.84043664]]\n",
      "Method 2 item vector: \n",
      "[[-2.23409657 -1.48792288 -0.31647196  1.19805478  2.84043664]]\n"
     ]
    }
   ],
   "source": [
    "#Choose only one eigenvector (represent data in one dimension)\n",
    "\n",
    "Ureduced = np.reshape(U[:, 0], (5, 1))\n",
    "Vreduced = np.reshape(V.T[:, 0].T, (1, 2))\n",
    "Sreduced = np.array(S[0, 0])\n",
    "\n",
    "#Method 1\n",
    "features1 = (Ureduced.T).dot(x_centered)\n",
    "items1 = Vreduced.dot(x_centered.T)\n",
    "\n",
    "#Method 2\n",
    "features2 = Sreduced.dot(Vreduced)\n",
    "items2 = Sreduced.dot(Ureduced.T)\n",
    "\n",
    "print \"Method 1 feature vector: \"\n",
    "print features1\n",
    "print \"Method 2 feature vector: \"\n",
    "print features2\n",
    "print \"Method 1 item vector: \"\n",
    "print items1\n",
    "print \"Method 2 item vector: \"\n",
    "print items2"
   ]
  },
  {
   "cell_type": "markdown",
   "metadata": {
    "collapsed": true
   },
   "source": [
    "Now that we have our reduced feature and item vectors, we can reconstruct our original data matrix $M$.\n",
    "\n",
    "$$M = items^TS^{-1}features = USS^{-1}SV^T$$\n",
    "\n",
    "Let us see how closely the reconstructed matrix resembles the original data matrix: "
   ]
  },
  {
   "cell_type": "code",
   "execution_count": 17,
   "metadata": {
    "collapsed": false
   },
   "outputs": [
    {
     "name": "stdout",
     "output_type": "stream",
     "text": [
      "Reconstructed matrix: \n",
      "[[ 0.54252216  0.47571843]\n",
      " [ 1.0627096   1.01067656]\n",
      " [ 1.87937477  1.85053087]\n",
      " [ 2.93521178  2.93634828]\n",
      " [ 4.08018169  4.11382953]]\n",
      "Orignal matrix: \n",
      "[[ 0.5         0.51706651]\n",
      " [ 1.          1.07165469]\n",
      " [ 2.          1.73323622]\n",
      " [ 3.          2.87334892]\n",
      " [ 4.          4.19179732]]\n"
     ]
    },
    {
     "data": {
      "image/png": "[encoded data removed]",
      "text/plain": [
       "<matplotlib.figure.Figure at 0x2de5910>"
      ]
     },
     "metadata": {},
     "output_type": "display_data"
    }
   ],
   "source": [
    "M = items1.T.dot(1/(Sreduced)).dot(features1) + x.mean(axis=0)\n",
    "print \"Reconstructed matrix: \"\n",
    "print M\n",
    "print \"Orignal matrix: \"\n",
    "print x\n",
    "fig, ax = plt.subplots()\n",
    "p1 = plt.scatter(x[:, 0], x[:, 1], color='red')\n",
    "p2 = plt.scatter(M[:, 0], M[:, 1], color='blue')\n",
    "plt.ylim([0, 5])\n",
    "plt.xlim([0, 5])\n",
    "plt.legend([p1, p2], [\"Original\", \"Reconstructed\"], loc='upper left')\n",
    "plt.title(\"Data\")\n",
    "plt.gca().set_aspect('equal', adjustable='box')\n",
    "ax.quiver((0), (0), (Vreduced[:, 0][0]), (Vreduced[:, 1][0]), scale_units = 'xy', scale = (0.15), color = 'r')\n",
    "plt.show()"
   ]
  },
  {
   "cell_type": "markdown",
   "metadata": {},
   "source": [
    "Alternatively, the data reconstruction could be performed much more straightfowardly by taking advantage of SVD: \n",
    "\n",
    "$$\\hat{U}\\hat{S}\\hat{V}^T$$\n",
    "\n",
    "Where _m_ eigenvectors and eigenvalues are chosen from $U$, $S$, and $V^T$. Let us see that this gives us the same result as above: "
   ]
  },
  {
   "cell_type": "code",
   "execution_count": 18,
   "metadata": {
    "collapsed": false
   },
   "outputs": [
    {
     "name": "stdout",
     "output_type": "stream",
     "text": [
      "Directly using SVD: \n",
      "[[ 0.54252216  0.47571843]\n",
      " [ 1.0627096   1.01067656]\n",
      " [ 1.87937477  1.85053087]\n",
      " [ 2.93521178  2.93634828]\n",
      " [ 4.08018169  4.11382953]]\n",
      "Using reduced feature and item vectors: \n",
      "[[ 0.54252216  0.47571843]\n",
      " [ 1.0627096   1.01067656]\n",
      " [ 1.87937477  1.85053087]\n",
      " [ 2.93521178  2.93634828]\n",
      " [ 4.08018169  4.11382953]]\n"
     ]
    }
   ],
   "source": [
    "M2 = Ureduced.dot(Sreduced).dot(Vreduced) + x.mean(axis=0)\n",
    "print \"Directly using SVD: \"\n",
    "print M2\n",
    "print \"Using reduced feature and item vectors: \"\n",
    "print M"
   ]
  },
  {
   "cell_type": "markdown",
   "metadata": {},
   "source": [
    "Finally note that principal components are orthogonal to each other since the data are projected onto orthogonal eigenvectors."
   ]
  },
  {
   "cell_type": "markdown",
   "metadata": {},
   "source": [
    "# Implementation vs Python's PCA package\n",
    "Let us try PCA on three-dimensional data using the methods introduced above as well as practice using the PCA package from python. First, let us generate some three-dimensional data and visualize it! In this data sample, we will have 20 points belonging to one class and 20 points from the other. The points will be drawn from two multivariate normal distributions, one with mean (0, 0, 0) and the other with mean (1, 1, 1). The variances are 1 in each dimension and all covariances are 0.  "
   ]
  },
  {
   "cell_type": "code",
   "execution_count": 9,
   "metadata": {
    "collapsed": false
   },
   "outputs": [
    {
     "data": {
      "image/png": "[encoded data removed]",
      "text/plain": [
       "<matplotlib.figure.Figure at 0x7a01d50>"
      ]
     },
     "metadata": {},
     "output_type": "display_data"
    }
   ],
   "source": [
    "%matplotlib inline\n",
    "import numpy as np\n",
    "import matplotlib.pyplot as plt\n",
    "from mpl_toolkits.mplot3d import Axes3D\n",
    "from mpl_toolkits.mplot3d import proj3d\n",
    "import pandas as pd\n",
    "\n",
    "np.random.seed(1)\n",
    "\n",
    "#Class 1\n",
    "mu_vec1 = np.array([0,0,0])\n",
    "cov_mat1 = np.array([[1,0,0],[0,1,0],[0,0,1]])\n",
    "class1_sample = np.random.multivariate_normal(mu_vec1, cov_mat1, 20).T\n",
    "\n",
    "#Class 2\n",
    "mu_vec2 = np.array([1,1,1])\n",
    "cov_mat2 = np.array([[1,0,0],[0,1,0],[0,0,1]])\n",
    "class2_sample = np.random.multivariate_normal(mu_vec2, cov_mat2, 20).T\n",
    "\n",
    "fig = plt.figure(figsize=(8,8))\n",
    "ax = fig.add_subplot(111, projection='3d') #1x1 grid, 1st subplot. 3D plot\n",
    "plt.rcParams['legend.fontsize'] = 10\n",
    "#alpha = measure of transparency\n",
    "ax.plot(class1_sample[0,:], class1_sample[1,:], class1_sample[2,:],\n",
    "        'o', markersize=8, color='blue', alpha=1, label='class1')\n",
    "ax.plot(class2_sample[0,:], class2_sample[1,:], class2_sample[2,:],\n",
    "        '^', markersize=8, alpha=1, color='red', label='class2')\n",
    "\n",
    "plt.title('Samples for class 1 and class 2')\n",
    "ax.legend(loc='upper right')\n",
    "\n",
    "plt.show()"
   ]
  },
  {
   "cell_type": "markdown",
   "metadata": {},
   "source": [
    "PCA is an unsupervised learning algorithm, therefore we can disgard information concerning labels and merge the two numpy arrays. Once we have the data matrix, we need to center each feature before performing SVD to find the eigenvectors and eigenvalues. In SVD, the eigenvectors in $V$ corresponds to feature dimensions while the eigenvectors in $U$ corresonds to sample dimensions. "
   ]
  },
  {
   "cell_type": "code",
   "execution_count": 20,
   "metadata": {
    "collapsed": false
   },
   "outputs": [
    {
     "name": "stdout",
     "output_type": "stream",
     "text": [
      "Dimensions of U:\n",
      "(40, 3)\n",
      "Dimensions of V:\n",
      "(3, 3)\n"
     ]
    }
   ],
   "source": [
    "all_samples = np.concatenate((class1_sample, class2_sample), axis=1).T\n",
    "df = pd.DataFrame({1:all_samples[:,0], 2:all_samples[:,1], 3:all_samples[:,2]})\n",
    "df_means = df.mean(axis=0)\n",
    "\n",
    "#Centering the data: \n",
    "df_centered = df - df_means\n",
    "\n",
    "#Getting eigenvectors and eigenvalues\n",
    "U, S, V = np.linalg.svd(df_centered, full_matrices=0)\n",
    "S = np.diag(S)\n",
    "print \"Dimensions of U:\"\n",
    "print U.shape\n",
    "print \"Dimensions of V:\"\n",
    "print V.shape"
   ]
  },
  {
   "cell_type": "markdown",
   "metadata": {},
   "source": [
    "Let us reduce all our item vectors from 3 dimensions to 2 dimensions by projecting the data onto feature eigenvectors corresponding to the top 2 eigenvalues, and then plotting the transformed samples in 2-dimensions."
   ]
  },
  {
   "cell_type": "code",
   "execution_count": 34,
   "metadata": {
    "collapsed": false
   },
   "outputs": [
    {
     "data": {
      "image/png": "[encoded data removed]",
      "text/plain": [
       "<matplotlib.figure.Figure at 0x1090c090>"
      ]
     },
     "metadata": {},
     "output_type": "display_data"
    }
   ],
   "source": [
    "samples_reduced = V[0:2, :].dot(df_centered.T).T\n",
    "plt.plot(samples_reduced[0:20,0], samples_reduced[0:20, 1],\n",
    "         'o', markersize=7, color='blue', alpha=1, label='class1')\n",
    "plt.plot(samples_reduced[20:40, 0], samples_reduced[20:40, 1],\n",
    "         '^', markersize=7, color='red', alpha=1, label='class2')\n",
    "plt.xlabel('x_values')\n",
    "plt.ylabel('y_values')\n",
    "plt.xlim([-4,4])\n",
    "plt.ylim([-4,4])\n",
    "plt.title('Transformed samples with class labels')\n",
    "plt.legend()\n",
    "plt.gca().set_aspect('equal', adjustable='box')\n",
    "plt.show()"
   ]
  },
  {
   "cell_type": "markdown",
   "metadata": {},
   "source": [
    "Observe that with 2 dimensions, one is still able to capture the spatial separation between the two classes. Let us use the *PCA* package from sklearn to verify that our results!"
   ]
  },
  {
   "cell_type": "code",
   "execution_count": 35,
   "metadata": {
    "collapsed": false
   },
   "outputs": [
    {
     "data": {
      "image/png": "[encoded data removed]",
      "text/plain": [
       "<matplotlib.figure.Figure at 0x6eab750>"
      ]
     },
     "metadata": {},
     "output_type": "display_data"
    }
   ],
   "source": [
    "from sklearn.decomposition import PCA as sklearnPCA\n",
    "\n",
    "sklearn_pca = sklearnPCA(n_components=2)  #Number of eigenvectors to project to\n",
    "sklearn_transf = sklearn_pca.fit_transform(df_centered)\n",
    "\n",
    "plt.plot(sklearn_transf[0:20,0],sklearn_transf[0:20,1],\n",
    "         'o', markersize=7, color='blue', alpha=1, label='class1')\n",
    "plt.plot(sklearn_transf[20:40,0], sklearn_transf[20:40,1],\n",
    "         '^', markersize=7, color='red', alpha=1, label='class2')\n",
    "\n",
    "plt.xlabel('x_values')\n",
    "plt.ylabel('y_values')\n",
    "plt.xlim([-4,4])\n",
    "plt.ylim([-4,4])\n",
    "plt.legend()\n",
    "plt.title('Transformed samples using sklearn.decomposition.PCA()')\n",
    "plt.gca().set_aspect('equal', adjustable='box')\n",
    "plt.show()"
   ]
  },
  {
   "cell_type": "markdown",
   "metadata": {},
   "source": [
    "We can observe that the two results are the same! This concludes the PCA tutorial! "
   ]
  }
 ],
 "metadata": {
  "kernelspec": {
   "display_name": "Python 2",
   "language": "python",
   "name": "python2"
  },
  "language_info": {
   "codemirror_mode": {
    "name": "ipython",
    "version": 2
   },
   "file_extension": ".py",
   "mimetype": "text/x-python",
   "name": "python",
   "nbconvert_exporter": "python",
   "pygments_lexer": "ipython2",
   "version": "2.7.11"
  }
 },
 "nbformat": 4,
 "nbformat_minor": 0
}
