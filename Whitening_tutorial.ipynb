{
 "cells": [
  {
   "cell_type": "markdown",
   "metadata": {},
   "source": [
    "# Whitening Tutorial\n",
    "### Author: _Calvin Chi_\n"
   ]
  },
  {
   "cell_type": "markdown",
   "metadata": {},
   "source": [
    "# Motivation\n",
    "Whitening is a common preprocessing step in machine learning that aims to transform the data such that it has the identity covariance  matrix. Once a data set is whitened, its covariance matrix is a diagonal matrix with all entries equal to one. \n",
    "\n",
    "Why perform whitening on your data? There are two main reasons for doing so: \n",
    "\n",
    "1. Data with independent dimensions are often easier to model statistically.\n",
    "2. Forcing all dimensions to have equal unit variance treats each dimension with equal importance.\n",
    "\n",
    "Let us graphically illustrate why whitening might be important with a contour plot. In a contour plot, every point on the contour is the same \"distance\" from the mean. In the contour plot plotting the real distribution of our hypothetical data below, not only are the two dimensions not independent, but the variance in each dimension is different. If we are blind to the contours, then we might conclude that a point in the y-direction is closer to the mean than a point in the x-direction, even though in reality, they are on the same contour. "
   ]
  },
  {
   "cell_type": "code",
   "execution_count": 18,
   "metadata": {
    "collapsed": false
   },
   "outputs": [
    {
     "data": {
      "image/png": "[encoded data removed]",
      "text/plain": [
       "<matplotlib.figure.Figure at 0x878c730>"
      ]
     },
     "metadata": {},
     "output_type": "display_data"
    },
    {
     "data": {
      "image/png": "[encoded data removed]",
      "text/plain": [
       "<matplotlib.figure.Figure at 0x8ac0710>"
      ]
     },
     "metadata": {},
     "output_type": "display_data"
    }
   ],
   "source": [
    "%matplotlib inline\n",
    "import matplotlib.pyplot as plt\n",
    "import numpy as np\n",
    "from matplotlib.mlab import bivariate_normal\n",
    "\n",
    "x = np.arange(-5, 6, 1)\n",
    "y = np.arange(-5, 6, 1)\n",
    "X, Y = np.meshgrid(x, y)\n",
    "Z = bivariate_normal(X, Y, sigmax=2, sigmay=1, mux=0, muy=0, sigmaxy=1.5)\n",
    "plt.subplot(121)\n",
    "plt.contour(X, Y, Z)\n",
    "plt.title(\"Pre-whitened Data\")\n",
    "plt.gca().set_aspect('equal', adjustable='box')\n",
    "plt.show()\n",
    "\n",
    "Z = bivariate_normal(X, Y, sigmax=1, sigmay=1, mux=0, muy=0, sigmaxy=0)\n",
    "plt.subplot(122)\n",
    "plt.contour(X, Y, Z)\n",
    "plt.title(\"Whitened data\")\n",
    "plt.gca().set_aspect('equal', adjustable='box')\n",
    "plt.show()"
   ]
  },
  {
   "cell_type": "markdown",
   "metadata": {},
   "source": [
    "However, if we whiten our data so that the contour plot looks spherical, then one unit in the y-direction will be equal to one unit in the x-direction. \n",
    "\n",
    "---\n",
    "\n",
    "# Deriving the method\n",
    "Let $X \\in \\mathbb{R}^{nxd}$ be our data matrix, where $n$ = number of samples and $d$ = number of features. Let us first set our goal to find $W_{D} \\in \\mathbb{R}^{dxd}$ such that $Y = XW_{D}$, where $Y$ is our transformed data with diagonal covariance matrix. Before diving in, let us also state an equivalence that we know from linear algebra. \n",
    "\n",
    "Let $\\Sigma$ be the covariance matrix of our data matrix $X$. Since a covariance matrix is by definition symmetric, from linear algebra we know that $\\Sigma$ can be decomposed into: \n",
    "\n",
    "$$\\Sigma = EDE^{-1} = EDE^{T}$$\n",
    "$$D = E^{-1}\\Sigma E = E^{T}\\Sigma E$$\n",
    "\n",
    "Where E is an orthogonal matrix and D is a diagonal matrix containing eigenvalues. For the purposes of the derivation, we assume that $X$ is centered by column, so that we can state: \n",
    "\n",
    "$$\\Sigma = \\frac{X^{T}X}{n}$$\n",
    "\n",
    "The goal is to find $W_{D}$ such that $Y$ has covariance matrix equal to $D$, or stated mathematically: \n",
    "\n",
    "$$D = \\frac{Y^{T}Y}{n}$$\n",
    "\n",
    "## Method 1\n",
    "We start our derivation with what the covariance matrix of the transformed data $Y$ should be: \n",
    "\n",
    "$$D = \\frac{Y^{T}Y}{n} = \\frac{(XW_{D})^{T}(XW_{D})}{n} = \\frac{W_{D}^{T}X^{T}XW_{D}}{n} = W_{D}^{T}\\Sigma W_{D}$$\n",
    "\n",
    "$$\\text{Since we know that }D = E^{-1}\\Sigma E$$\n",
    "\n",
    "$$W_{D}^{T}\\Sigma W_{D} = E^{-1}\\Sigma E$$\n",
    "\n",
    "$$\\text{Hence, }$$\n",
    "\n",
    "$$W_{D}^{T} = E^{-1} \\text{ or } W_{D} = E$$\n",
    "\n",
    "Thus, multiplying $X$ by $E$ will tranform our data such that it has diagonal covariance matrix. In whitening though, not only are we making the covariance matrix of the transformed data diagonal, but also an identity matrix. To achieve this, we only need to re-state our goal as: \n",
    "\n",
    "$$I = \\frac{Y^{T}Y}{n}$$\n",
    "\n",
    "Before we dive into deriving what $W_{W}$ should be such that $XW_{W} = I$, let us state a few linear algebra manipulations that we will be using: \n",
    "\n",
    "$$I = D^{-1}D = D^{-\\frac{1}{2}}DD^{-\\frac{1}{2}} = D^{-\\frac{1}{2}}E^{-1}\\Sigma ED^{-\\frac{1}{2}}$$\n",
    "\n",
    "$$I = \\frac{Y^{T}Y}{n} = \\frac{(XW_{W})^{T}(XW_{W})}{n} = \\frac{W_{W}^{T}X^{T}XW_{W}}{n} = W_{W}^{T}\\Sigma W_{W}$$\n",
    "\n",
    "$$W_{W}^{T}\\Sigma W_{W} = D^{-\\frac{1}{2}}E^{-1}\\Sigma ED^{-\\frac{1}{2}}$$\n",
    "\n",
    "$$\\text{Hence, }$$\n",
    "\n",
    "$$W_{W}^{T} = D^{-\\frac{1}{2}}E^{T}$$\n",
    "$$W_{W} = ED^{-\\frac{1}{2}}$$\n",
    "\n",
    "## Method 2\n",
    "Is there a simpler, yet equivalent way of expressing $W_{W} = ED^{-\\frac{1}{2}}$? It turns out there is. Let us derive that! \n",
    "\n",
    "$$\\Sigma^{1/2} = ED^{1/2}E^{-1}$$\n",
    "\n",
    "$$\\Sigma^{-\\frac{1}{2}} = (ED^{1/2}E^{-1})^{-1} = ED^{-\\frac{1}{2}}E^{-1}$$\n",
    "\n",
    "$$\\Sigma^{-1} = \\Sigma^{-\\frac{1}{2}}\\Sigma^{-\\frac{1}{2}} = ED^{-\\frac{1}{2}}E^{-1}ED^{-\\frac{1}{2}}E^{-1} = ED^{-\\frac{1}{2}}D^{-\\frac{1}{2}}E^{-1}$$\n",
    "\n",
    "So $W_{W} = ED^{-\\frac{1}{2}} = \\Sigma^{-1/2}$ !\n",
    "\n",
    "---\n",
    "\n",
    "# Code Demonstration\n",
    "To demonstrate this, let us generate 50 data points drawn from a multivariate normal distribution with origin as the mean and the covariance matrix: \n",
    "\n",
    "$$\\Sigma = \\begin{bmatrix}\n",
    "2&1.5\\\\\n",
    "1.5&2\\\\\n",
    "\\end{bmatrix}$$\n",
    "\n",
    "We plot the 50 data points:"
   ]
  },
  {
   "cell_type": "code",
   "execution_count": 16,
   "metadata": {
    "collapsed": false
   },
   "outputs": [
    {
     "data": {
      "image/png": "[encoded data removed]",
      "text/plain": [
       "<matplotlib.figure.Figure at 0x56e1950>"
      ]
     },
     "metadata": {},
     "output_type": "display_data"
    }
   ],
   "source": [
    "%matplotlib inline\n",
    "import numpy as np\n",
    "import matplotlib.pyplot as plt\n",
    "from numpy.linalg import inv as inv\n",
    "\n",
    "np.random.seed(1)\n",
    "\n",
    "mu_vec = np.array([0,0])\n",
    "cov_mat = np.array([[2,1.5],[1.5,2]])\n",
    "data = np.random.multivariate_normal(mu_vec, cov_mat, 50)\n",
    "\n",
    "plt.scatter(data[:,0], data[:, 1])\n",
    "plt.title('Data')\n",
    "plt.xlabel('x values')\n",
    "plt.ylabel('y values')\n",
    "plt.gca().set_aspect('equal', adjustable='box')\n",
    "plt.show()"
   ]
  },
  {
   "cell_type": "markdown",
   "metadata": {},
   "source": [
    "##Method 1\n",
    "In method 1 derived above, we find $W_{W} = ED^{-1/2}$ such that: \n",
    "\n",
    "$$X_{Whitened} = XW_{W}$$\n",
    "\n",
    "We implement method 1 to see that it works. "
   ]
  },
  {
   "cell_type": "code",
   "execution_count": 39,
   "metadata": {
    "collapsed": false
   },
   "outputs": [
    {
     "name": "stdout",
     "output_type": "stream",
     "text": [
      "Covariance matrix of Whitened Data\n",
      "[[  1.00000000e+00   1.94544980e-16]\n",
      " [  1.94544980e-16   1.00000000e+00]]\n"
     ]
    },
    {
     "data": {
      "image/png": "[encoded data removed]",
      "text/plain": [
       "<matplotlib.figure.Figure at 0x575b330>"
      ]
     },
     "metadata": {},
     "output_type": "display_data"
    }
   ],
   "source": [
    "from scipy.linalg import sqrtm\n",
    "\n",
    "#Find the covariance matrix of the data\n",
    "cov_mat = np.cov(data.T)\n",
    "#Call the SVD function from linalg module to perform spectral decomposition on the covariance matrix\n",
    "U, S, V = np.linalg.svd(cov_mat)\n",
    "S = np.diag(S)\n",
    "SInvSr = np.sqrt(inv(S))\n",
    "\n",
    "W = U.dot(SInvSr)\n",
    "\n",
    "transformedData = data.dot(W)\n",
    "\n",
    "cov = np.cov(transformedData.T)\n",
    "print \"Covariance matrix of Whitened Data\"\n",
    "print cov\n",
    "\n",
    "plt.scatter(transformedData[:,0], transformedData[:, 1])\n",
    "plt.title('Whitened Data')\n",
    "plt.xlabel('x values')\n",
    "plt.ylabel('y values')\n",
    "plt.ylim([-3, 3])\n",
    "plt.xlim([-3, 3])\n",
    "plt.gca().set_aspect('equal', adjustable='box')\n",
    "plt.show()"
   ]
  },
  {
   "cell_type": "markdown",
   "metadata": {},
   "source": [
    "Indeed, the transformed data has identity covariance matrix and when plotted, appears spherical!\n",
    "##Method 2\n",
    "In method 2 derived above, we find $W_{W} = \\Sigma^{-1/2}$ such that: \n",
    "\n",
    "$$X_{Whitened} = XW_{W}$$\n",
    "\n",
    "We implement method 2 to see that it works. "
   ]
  },
  {
   "cell_type": "code",
   "execution_count": 40,
   "metadata": {
    "collapsed": false
   },
   "outputs": [
    {
     "name": "stdout",
     "output_type": "stream",
     "text": [
      "Covariance matrix of Whitened Data\n",
      "[[  1.00000000e+00  -8.85540810e-17]\n",
      " [ -8.85540810e-17   1.00000000e+00]]\n"
     ]
    },
    {
     "data": {
      "image/png": "[encoded data removed]",
      "text/plain": [
       "<matplotlib.figure.Figure at 0x57c0470>"
      ]
     },
     "metadata": {},
     "output_type": "display_data"
    }
   ],
   "source": [
    "#Find the inverse of the covariance matrix\n",
    "covInv = inv(cov_mat)\n",
    "#Find the square root of the inverse covariance matrix\n",
    "covInvSr = sqrtm(covInv)\n",
    "\n",
    "transformedData = data.dot(covInvSr)\n",
    "\n",
    "cov = np.cov(transformedData.T)\n",
    "print \"Covariance matrix of Whitened Data\"\n",
    "print cov\n",
    "\n",
    "plt.scatter(transformedData[:,0], transformedData[:, 1])\n",
    "plt.title('Whitened Data')\n",
    "plt.xlabel('x values')\n",
    "plt.ylabel('y values')\n",
    "plt.ylim([-3, 3])\n",
    "plt.xlim([-3, 3])\n",
    "plt.gca().set_aspect('equal', adjustable='box')\n",
    "plt.show()"
   ]
  },
  {
   "cell_type": "markdown",
   "metadata": {},
   "source": [
    "Indeed, the transformed data has identity covariance matrix and when plotted, appears spherical! To a very close appromixation, method 1 and method 2 give the same transformation. \n",
    "\n",
    "This concludes the whitening tutorial."
   ]
  }
 ],
 "metadata": {
  "kernelspec": {
   "display_name": "Python 2",
   "language": "python",
   "name": "python2"
  },
  "language_info": {
   "codemirror_mode": {
    "name": "ipython",
    "version": 2
   },
   "file_extension": ".py",
   "mimetype": "text/x-python",
   "name": "python",
   "nbconvert_exporter": "python",
   "pygments_lexer": "ipython2",
   "version": "2.7.11"
  }
 },
 "nbformat": 4,
 "nbformat_minor": 0
}
