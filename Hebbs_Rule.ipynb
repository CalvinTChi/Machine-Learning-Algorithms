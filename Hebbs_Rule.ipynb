{
 "cells": [
  {
   "cell_type": "markdown",
   "metadata": {},
   "source": [
    "# <center>Hebb's Rule</center>\n",
    "### <center>Calvin Chi</center>"
   ]
  },
  {
   "cell_type": "markdown",
   "metadata": {},
   "source": [
    "Hebb's Rule is a simple binary classificaiton algorithm that finds a decision boundary resulting from the subtraction of two class centroids. Before we dive in, let as first understand what a centroid is and how a boundary can be constructed from the substraction of class two centroids. "
   ]
  },
  {
   "cell_type": "markdown",
   "metadata": {},
   "source": [
    "# Math Prerequisites\n",
    "A centroid can be understood as the average in multiple dimensions, or the geometric center of $n$-dimensional space. Assume that $x^{(i)}$ is the $i$th sample with $n$ features, or $x \\in \\mathbb{R}^{1xn}$, then the centroid of $m$ such samples is computed as:\n",
    "\n",
    "$$x_{c} = \\frac{\\sum_{i = 1}^{m}x^{(i)}}{m} \\in \\mathbb{R}^{1xn}$$\n",
    "\n",
    "To visualize this:"
   ]
  },
  {
   "cell_type": "code",
   "execution_count": 8,
   "metadata": {
    "collapsed": false
   },
   "outputs": [
    {
     "data": {
      "image/png": "[encoded data removed]",
      "text/plain": [
       "<matplotlib.figure.Figure at 0x105d648d0>"
      ]
     },
     "metadata": {},
     "output_type": "display_data"
    }
   ],
   "source": [
    "%matplotlib inline\n",
    "import matplotlib.pyplot as plt\n",
    "import numpy as np\n",
    "\n",
    "mu = [2, 1]\n",
    "cov = np.array([[2, 0], [0, 2]])\n",
    "points = np.random.multivariate_normal(mu, cov, 100)\n",
    "centroid = np.mean(points, axis = 0)\n",
    "plt.scatter(points[:, 0], points[:, 1])\n",
    "plt.scatter(centroid[0], centroid[1], color=\"red\", label=\"Centroid\", marker=\"x\", s = 100)\n",
    "plt.legend(loc=\"upper right\")\n",
    "plt.gca().set_aspect('equal', adjustable='box')\n",
    "plt.show()"
   ]
  },
  {
   "cell_type": "markdown",
   "metadata": {},
   "source": [
    "To see how a plane can be contructed from a vector, imagine that we have a 2-dimensional weight vector $w \\in \\mathbb{R}^{2 x 1}$. The plane perpendicular to this vector is defined as:\n",
    "\n",
    "$$w^{T}x = w_{1}x_{1} + w_{2}x_{2} = 0$$\n",
    "\n",
    "Rearranging:\n",
    "\n",
    "$$x_{2} = -\\frac{w_{1}}{w_{2}} x_{1}$$ \n",
    "\n",
    "To visualize this, assume our $w$ is:\n",
    "\n",
    "$$ w = \\begin{bmatrix}\n",
    "1\\\\\n",
    "1\\\\\n",
    "\\end{bmatrix}$$\n",
    "\n",
    "And contruct the line perpendicular to this weight vector."
   ]
  },
  {
   "cell_type": "code",
   "execution_count": 9,
   "metadata": {
    "collapsed": false
   },
   "outputs": [
    {
     "data": {
      "image/png": "[encoded data removed]",
      "text/plain": [
       "<matplotlib.figure.Figure at 0x104125e80>"
      ]
     },
     "metadata": {},
     "output_type": "display_data"
    }
   ],
   "source": [
    "fig, ax = plt.subplots()\n",
    "ax.quiver((0), (0), (1), (1), angles='xy', scale_units='xy', scale=1, color='black')\n",
    "x = np.array(range(-5, 5))\n",
    "y = -x\n",
    "plt.plot(x, y, color=\"black\")\n",
    "plt.gca().set_aspect('equal', adjustable='box')\n",
    "plt.show()"
   ]
  },
  {
   "cell_type": "markdown",
   "metadata": {},
   "source": [
    "# Derivation\n"
   ]
  },
  {
   "cell_type": "markdown",
   "metadata": {},
   "source": [
    "The decision boundary determined by Hebb's rule is the plane perpendicular to the vector resulting from the subtraction of two class centroids. Assume that we have $m_{1}$ samples of class $1$ and $m_{2}$ samples of class $2$:\n",
    "\n",
    "$$w = \\frac{\\sum_{i = 1}^{m_{1}}x^{(i)}}{m_{1}} - \\frac{\\sum_{i = 1}^{m_{2}}x^{(i)}}{m_{2}}$$\n",
    "\n",
    "Notice that if we cleverely denote one class as $+1$ and the other as $-1$, the above equation becomes:\n",
    "\n",
    "$$w = \\frac{\\sum_{i = 1}^{m_{1}}y^{(i)}x^{(i)}}{m_{1}} + \\frac{\\sum_{i = 1}^{m_{2}}y^{(i)}x^{(i)}}{m_{2}}$$\n",
    "\n",
    "Remember from above that the decision boundary is defined as:\n",
    "\n",
    "$$w^{T}x = 0$$\n",
    "\n",
    "Thus the denominators $m_{1}$ and $m_{2}$ do not matter, and the equation for $w$ is reduced to:\n",
    "\n",
    "$$w = \\sum_{i=1}^{T}y^{(i)}x^{(i)}$$\n",
    "\n",
    "Where $T = m_{1} + m_{2}$. Once we have $w$, then we can construct our decision boundary. The classifer is:\n",
    "\n",
    "$$f(x) = w^{T}x$$\n",
    "\n",
    "When $f(x^{(i)}) > 0$, then sample $i$ is classified as class $+1$, and if $f(x^{(i)}) < 0$, then the sample $i$ is classified as class $-1$. If $f(x^{(i)}) = 0$, then the classificaiton is ambiguous because it lies on the decision boundary."
   ]
  },
  {
   "cell_type": "markdown",
   "metadata": {},
   "source": [
    "# Implementation"
   ]
  },
  {
   "cell_type": "markdown",
   "metadata": {},
   "source": [
    "Let us visualize samples drawn from two different distributions belonging to different classes in two dimensions and the decision boundary that results from applying Hebb's rule."
   ]
  },
  {
   "cell_type": "code",
   "execution_count": 15,
   "metadata": {
    "collapsed": false
   },
   "outputs": [
    {
     "name": "stdout",
     "output_type": "stream",
     "text": [
      "[ 86.24049496  78.85898632]\n"
     ]
    },
    {
     "data": {
      "image/png": "[encoded data removed]",
      "text/plain": [
       "<matplotlib.figure.Figure at 0x105d7dcc0>"
      ]
     },
     "metadata": {},
     "output_type": "display_data"
    }
   ],
   "source": [
    "mu1 = [2, 2]\n",
    "cov1 = np.array([[1, 0], [0, 1]])\n",
    "class1 = np.random.multivariate_normal(mu1, cov1, 20)\n",
    "\n",
    "mu2 = [-2, -2]\n",
    "cov2 = np.array([[1, 0], [0, 1]])\n",
    "class2 = np.random.multivariate_normal(mu2, cov2, 20)\n",
    "\n",
    "w = np.sum(class1, axis = 0) + -np.sum(class2, axis = 0)\n",
    "print(w)\n",
    "\n",
    "def line(w, x):\n",
    "    slope = -w[0]/w[1] \n",
    "    return slope*x\n",
    "\n",
    "plt.scatter(class1[:, 0], class1[:, 1], color=\"blue\")\n",
    "plt.scatter(class2[:, 0], class2[:, 1], color=\"red\", marker=\"x\")\n",
    "x = np.array(range(-5, 5))\n",
    "y = line(w, x)\n",
    "plt.plot(x, y, color=\"black\")\n",
    "plt.gca().set_aspect('equal', adjustable='box')\n",
    "plt.show()"
   ]
  },
  {
   "cell_type": "markdown",
   "metadata": {},
   "source": [
    "It can be seen that Hebb's rule works quite well in this example dataset. In general, Hebb's rule is robust to outliers because every sample \"weighs in\" in the construction of the decision boundary. This concludes the Hebb's rule tutorial!"
   ]
  }
 ],
 "metadata": {
  "kernelspec": {
   "display_name": "Python 3",
   "language": "python",
   "name": "python3"
  },
  "language_info": {
   "codemirror_mode": {
    "name": "ipython",
    "version": 3
   },
   "file_extension": ".py",
   "mimetype": "text/x-python",
   "name": "python",
   "nbconvert_exporter": "python",
   "pygments_lexer": "ipython3",
   "version": "3.5.2"
  }
 },
 "nbformat": 4,
 "nbformat_minor": 0
}
