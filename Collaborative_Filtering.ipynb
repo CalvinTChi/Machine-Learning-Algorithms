{
 "cells": [
  {
   "cell_type": "markdown",
   "metadata": {},
   "source": [
    "# Collaborative Filtering\n",
    "### Author: _Calvin Chi_"
   ]
  },
  {
   "cell_type": "markdown",
   "metadata": {},
   "source": [
    "We will use collaborative filtering to build a joke recommender system to recommend jokes that match people's sense of humour, based on historical ratings of $m = 24,983$ users for $p = 100$ jokes. The historical data can be represented as a matrix $R \\in \\mathbb{R}^{m \\times p}$, where each user rates a subset of jokes and gives each a rating in $[-10, 10]$, with a higher value representing higher satisfaction. \n",
    "\n",
    "Define directory locations and load libraries"
   ]
  },
  {
   "cell_type": "code",
   "execution_count": 1,
   "metadata": {
    "collapsed": true
   },
   "outputs": [],
   "source": [
    "from scipy import io\n",
    "import numpy as np\n",
    "import pandas as pd\n",
    "DIR = \"datasets\""
   ]
  },
  {
   "cell_type": "markdown",
   "metadata": {},
   "source": [
    "Load the training and validation data"
   ]
  },
  {
   "cell_type": "code",
   "execution_count": 2,
   "metadata": {
    "collapsed": false
   },
   "outputs": [],
   "source": [
    "train = pd.DataFrame(io.loadmat(DIR + '/joke_train.mat')['train'])\n",
    "validation = open(DIR + '/validation.txt').readlines()"
   ]
  },
  {
   "cell_type": "markdown",
   "metadata": {},
   "source": [
    "Preprocess validation dataset"
   ]
  },
  {
   "cell_type": "code",
   "execution_count": 8,
   "metadata": {
    "collapsed": false
   },
   "outputs": [],
   "source": [
    "validation = np.array([list(map(int, line.strip().split(','))) for line in validation])"
   ]
  },
  {
   "cell_type": "markdown",
   "metadata": {},
   "source": [
    "Set the regularization parameter $\\lambda = 125$ and number of latent features to learn $d = 10$"
   ]
  },
  {
   "cell_type": "code",
   "execution_count": 18,
   "metadata": {
    "collapsed": true
   },
   "outputs": [],
   "source": [
    "lda = 125\n",
    "d = 10"
   ]
  },
  {
   "cell_type": "markdown",
   "metadata": {},
   "source": [
    "Fill `NaN` with 0, with 0 used to detect missingness in the implementation."
   ]
  },
  {
   "cell_type": "code",
   "execution_count": 19,
   "metadata": {
    "collapsed": true
   },
   "outputs": [],
   "source": [
    "train.fillna(0, inplace=True)"
   ]
  },
  {
   "cell_type": "markdown",
   "metadata": {
    "collapsed": false
   },
   "source": [
    "Let $R \\in \\mathbb{R}^{m \\times p}$ be the ratings matrix with $\\texttt{NaN}$ entries, $U \\in \\mathbb{R}^{m \\times d}$  be the latent factor matrix for people, $V \\in \\mathbb{R}^{d \\times p}$ be the latent factor matrix for jokes, $W \\in \\mathbb{m \\times p}$ be a matrix of whether there was a rating, where\n",
    "\n",
    "$$W_{ij}=\\begin{cases}\n",
    "    1, & \\text{if $R_{ij} \\neq 0$}\\\\\n",
    "    0, & \\text{Otherwise}\\\\\n",
    "  \\end{cases}$$\n",
    "  \n",
    "Let $\\lambda$ be the regularization hyperparameter and $u_{i} = U[i, :]$ and $v_{j} = V[:, j]$ be the latent factor of person $i$ and latent factor for joke $j$ respectively. The latent factor matrices $U$ and $J$ are learned are from minimizing the mean squared error MSE defined as\n",
    "\n",
    "$$MSE = \\sum_{(i, j) \\in S}(\\langle u_{i}, v_{j} \\rangle - R_{ij})^{2} + \\lambda \\sum_{i = 1}^{m}||u_{i}||_{2}^{2} + \\lambda \\sum_{j = 1}^{p}||v_{j}||_{2}^{2}, \\quad \\text{where }S = \\{(i, j): R_{ij} \\neq \\texttt{NaN}\\} $$\n",
    "\n",
    "Where $\\langle u_{i}, v_{j} \\rangle$ denotes the inner product between $u_{i}$ and $v_{j}$. Solving for $U$ and $V$ can be done via [alternating least squares](https://bugra.github.io/work/notes/2014-04-19/alternating-least-squares-method-for-collaborative-filtering/). Let $R_{u_{i}} \\in \\mathbb{R}^{1 \\times p}$ be the joke rating for person $u_{i}$, $R_{v_{j}} \\in \\mathbb{R}^{m \\times 1}$ be the ratings given by $m$ people for joke $v_{j}$, $W_{u_{i}} \\in \\mathbb{R}^{p \\times p}$ be the diagonalized matrix of $W[i, :]$, and $W_{v_{j}} \\in \\mathbb{R}^{m \\times m}$ be the diagonalized matrix of $W[:, j]$. In matrix notation, the MSE for $u_{i}$ and $v_{j}$ are respectively\n",
    "\n",
    "$$MSE(u_{i}) = (R_{u_{i}} - u_{i}V)W_{u_{i}}(R_{u_{i}} - u_{i}V)^{T} + \\lambda u_{i}u_{i}^{T} + \\lambda v_{j}v_{j}^{T}$$\n",
    "\n",
    "$$MSE(v_{j}) = (R_{v_{j}} - Uv_{j})^{T}W_{v_{j}}(R_{v_{j}} - Uv_{j}) + \\lambda u_{i}u_{i}^{T} + \\lambda v_{j}v_{j}^{T}$$\n",
    "\n",
    "The update equations for $u_{i}$ are solved as\n",
    "\n",
    "\\begin{align*}\n",
    "\\frac{d(MSE(u_{i})}{du_{i}} &= -R_{u_{i}}W_{u}V^{T} + u_{i}VW_{u_{i}}V^{T} + \\lambda u_{i} = 0\\\\\n",
    "&\\Rightarrow u_{i}(VW_{u_{i}}V^{T} + \\lambda I) = R_{u_{i}}W_{u_{i}}V^{T}\\\\\n",
    "&\\Rightarrow u_{i} = R_{u_{i}}W_{u_{i}}V^{T}(VW_{u_{i}}V^{T} + \\lambda I)^{-1}\\\\\n",
    "\\end{align*}\n",
    "\n",
    "The update equations for $v_{j}$ are solved as\n",
    "\n",
    "\\begin{align*}\n",
    "\\frac{d(MSE(v_{j})}{dv_{j}} &= -U^{T}W_{v_{j}}R_{v_{j}} + U^{T}W_{v_{j}}Uv_{j} + \\lambda v_{j} = 0\\\\\n",
    "&\\Rightarrow v_{j}(U^{T}W_{v_{j}}U + \\lambda I) = U^{T}W_{v_{j}}R_{v_{j}}\\\\\n",
    "&\\Rightarrow v_{j} = (U^{T}W_{v_{j}}U + \\lambda I)^{-1}U^{T}W_{v_{j}}R_{v_{j}}\\\\\n",
    "\\end{align*}\n",
    "\n",
    "And now the implementation"
   ]
  },
  {
   "cell_type": "code",
   "execution_count": 68,
   "metadata": {
    "collapsed": true
   },
   "outputs": [],
   "source": [
    "def collaborative_filtering(R, d, lda, threshold):\n",
    "    W = (R != 0).astype(np.float64)\n",
    "    MSE1 = float(\"inf\")\n",
    "    jokes = np.random.normal(0, 1, (d, R.shape[1]))\n",
    "    users = np.random.normal(0, 1, (R.shape[0], d))\n",
    "    # idx is tuple - 1st array contain row indices and 2nd array contains column indices\n",
    "    S_idx = np.where(R.values != 0)\n",
    "    predicted_ratings = users.dot(jokes)\n",
    "    MSE2 = np.mean((predicted_ratings[S_idx] - R.values[S_idx])**2)\n",
    "    while MSE1 - MSE2 > threshold:\n",
    "        MSE1 = MSE2\n",
    "        for u, Wu in enumerate(W.values):\n",
    "            rating = np.reshape(R.iloc[u, :], (1, R.shape[1]))\n",
    "            users[u, :] = rating.dot(np.diag(Wu)).dot(jokes.T).dot(np.linalg.inv(jokes.dot(np.diag(Wu)).dot(jokes.T) + \n",
    "                        lda * np.eye(d))).flatten()\n",
    "        for r, Wr in enumerate(W.T.values):\n",
    "            rating = np.reshape(R.iloc[:, r], (R.shape[0], 1))\n",
    "            jokes[:, r] = np.linalg.inv(users.T.dot(np.diag(Wr)).dot(users) + \n",
    "                                        lda * np.eye(d)).dot(users.T.dot(np.diag(Wr)).dot(rating)).flatten()\n",
    "        predicted_ratings = users.dot(jokes)\n",
    "        MSE2 = np.mean((predicted_ratings[S_idx] - R.values[S_idx])**2)\n",
    "    return users, jokes "
   ]
  },
  {
   "cell_type": "markdown",
   "metadata": {},
   "source": [
    "Train on the historical data"
   ]
  },
  {
   "cell_type": "code",
   "execution_count": 69,
   "metadata": {
    "collapsed": false
   },
   "outputs": [],
   "source": [
    "users, jokes = collaborative_filtering(train, d, lda, 0.1)"
   ]
  },
  {
   "cell_type": "markdown",
   "metadata": {},
   "source": [
    "Now that collaborative filtering has produced the latent factor matrices, the matrix multiplication $P = UV$ produces a $\\mathbb{R}^{m \\times p}$ matrix, where the $(i, j)$ entry corresponds to the predicted rating for joke $j$ by user $i$. We can now use $P$ to predict whether user $i$ will like joke $j$, with liking a joke defined as giving a rating greater than 0. \n",
    "\n",
    "The validation dataset has format\n",
    "\n",
    "```\n",
    "1, 5, 1\n",
    "1, 8, 1\n",
    "```\n",
    "\n",
    "Where each line follows the format ''$\\texttt{i, j, s}$'', representing user $\\texttt{i}$ and joke $\\texttt{j}$ with rating $\\texttt{s}$. "
   ]
  },
  {
   "cell_type": "code",
   "execution_count": 75,
   "metadata": {
    "collapsed": false
   },
   "outputs": [],
   "source": [
    "predicted_ratings = users.dot(jokes)"
   ]
  },
  {
   "cell_type": "markdown",
   "metadata": {},
   "source": [
    "Convert ratings to whether to recommend joke to user. "
   ]
  },
  {
   "cell_type": "code",
   "execution_count": 78,
   "metadata": {
    "collapsed": true
   },
   "outputs": [],
   "source": [
    "positive_rating = (predicted_ratings > 0).astype(int)"
   ]
  },
  {
   "cell_type": "markdown",
   "metadata": {},
   "source": [
    "Get the right row and column indices from $P$ for prediction on validation dataset."
   ]
  },
  {
   "cell_type": "code",
   "execution_count": 84,
   "metadata": {
    "collapsed": false
   },
   "outputs": [],
   "source": [
    "row_idx = validation[:, 0] - 1\n",
    "col_idx = validation[:, 1] - 1"
   ]
  },
  {
   "cell_type": "markdown",
   "metadata": {},
   "source": [
    "Make prediction and calculate mean accuracy."
   ]
  },
  {
   "cell_type": "code",
   "execution_count": 91,
   "metadata": {
    "collapsed": false
   },
   "outputs": [
    {
     "data": {
      "text/plain": [
       "0.73170731707317072"
      ]
     },
     "execution_count": 91,
     "metadata": {},
     "output_type": "execute_result"
    }
   ],
   "source": [
    "accuracy = np.mean(positive_rating[row_idx, col_idx] == validation[:, 2])\n",
    "accuracy"
   ]
  },
  {
   "cell_type": "markdown",
   "metadata": {},
   "source": [
    "This concludes my notes on collaborative filtering."
   ]
  }
 ],
 "metadata": {
  "kernelspec": {
   "display_name": "Python 3",
   "language": "python",
   "name": "python3"
  },
  "language_info": {
   "codemirror_mode": {
    "name": "ipython",
    "version": 3
   },
   "file_extension": ".py",
   "mimetype": "text/x-python",
   "name": "python",
   "nbconvert_exporter": "python",
   "pygments_lexer": "ipython3",
   "version": "3.5.2"
  }
 },
 "nbformat": 4,
 "nbformat_minor": 0
}
