{
 "cells": [
  {
   "cell_type": "markdown",
   "metadata": {},
   "source": [
    "# <center>Area Under the Curve</center>\n",
    "### <center>Calvin Chi</center>\n",
    "AUC, short for area under the curve, is a measure of how good a classification algorithm performs in terms of sensitivity in light of the false positive rate. The curve under which the area is determined is the ROC curve, which stands for receiver operating characteristic. The receiver operating characteristic is a plot of the true positive rate against the false positive rate for various rejection thresholds. The name ROC bears more historic weight than it does its actual meaning, and more information on the history can be found [here](https://en.wikipedia.org/wiki/Receiver_operating_characteristic).\n",
    "\n",
    "To define the true positive rate (TPR) and false positive rate (FPR), first examine the following table:\n",
    "\n",
    "|Condition A|Not condition A\n",
    "-|-|-\n",
    "Test results A|True Positive (TP)|False Positive (FP)\n",
    "Test results not A|False Negative (FN)|True Negative (TN)\n",
    "\n",
    "The TPR and FPR are then defined as follows: \n",
    "$$TPR(true\\:positive\\:rate) = \\frac{TP}{TP + FN}$$\n",
    "$$$$\n",
    "$$FPR(false\\:positive\\:rate) = \\frac{FP}{FP + TN}$$\n",
    "\n",
    "The output of classification algorithms in machine learning are often probabilities that a sample belongs to a certain class. Classification is performed based off a rejection threshold. Knowing the true labels, one can then determine the TPR and FPR for the model under the threshold. For example, in a binary classification setting, the user could decide any probability values above 50% to be class 1 and any probability values below 50% to be class 0. On a ROC curve, this 50% threshold would then correspond to one point.\n",
    "\n",
    "The area under the ROC curve gives a measure of how good the model is at detecting true positives at the expense of false positives. The objective is to build a model that can achieve a high TPR while maintaining a low FPR, the values of which are determined by the chosen rejection threshold. Hence, the larger the area under the ROC curve, the better the model is. Models that perform similarly to random guessing have AUCs close to 0.5 and possess a roughly linear ROC curve with slope 1 and intercept of 0, since the TPR is about the same as the FPR at every rejection threshold. \n",
    "\n",
    "To see how this works through an example, let us demonstrate calculations for a toy example: \n",
    "\n",
    "Predicted probability|True label\n",
    "-|-\n",
    "0.75|1\n",
    "0.83|1\n",
    "0.4|0\n",
    "0.53|0\n",
    "0.98|1\n",
    "0.1|0\n",
    "0.89|1\n",
    "0.35|0\n",
    "\n",
    "With a classification threshold of 0.5, the TPR and FPR would be calculated as follows: \n",
    "\n",
    "$$TPR = \\frac{4}{4} = 1$$\n",
    "$$FPR = \\frac{1}{4} = 0.25$$\n",
    "\n",
    "Let us now graph the ROC curve by generating predictions for 20 samples, where the true labels are 1 for the first 10 and 0 for the last 10 samples. In this tutorial, a good model should output probabilities close to 1 for samples of class 1 and probabilities close to 0 for samples of class 0. In this particular simulated dataset, samples of class 1 are assigned probabilities drawn from a $N(0.85, \\sigma = 0.3)$ distribution and samples of class 0 are assigned probabilities drawn from a $N(0.15, \\sigma = 0.3)$ distribution. "
   ]
  },
  {
   "cell_type": "code",
   "execution_count": 71,
   "metadata": {
    "collapsed": false
   },
   "outputs": [
    {
     "data": {
      "image/png": "[encoded data removed]",
      "text/plain": [
       "<matplotlib.figure.Figure at 0x105c74a20>"
      ]
     },
     "metadata": {},
     "output_type": "display_data"
    }
   ],
   "source": [
    "%matplotlib inline\n",
    "import numpy as np\n",
    "import matplotlib.pyplot as plt\n",
    "np.random.seed(2)\n",
    "\n",
    "num = 20\n",
    "trueLabels = num*[1] + num*[0]\n",
    "t = np.array([i if (i <= 1 and i>= 0) else 0.85 for i in np.random.normal(0.85, 0.3, num)])\n",
    "f = np.array([i if (i <= 1 and i>= 0) else 0.15 for i in np.random.normal(0.15, 0.3, num)])\n",
    "predict = np.concatenate([t, f])\n",
    "\n",
    "def TPR_FPR(predict, trueLabels, cutoff): \n",
    "    tp = predict[np.where(predict[:num] >= cutoff)]\n",
    "    fp = predict[np.where(predict[num:] >= cutoff)]\n",
    "    pos = [x for x in trueLabels if x == 1]\n",
    "    neg = [x for x in trueLabels if x == 0]\n",
    "    tpr = tp.size / len(pos)\n",
    "    fpr = fp.size / len(neg)\n",
    "    result = [tpr, fpr]\n",
    "    return result\n",
    "\n",
    "TPRs = []\n",
    "FPRs = []\n",
    "for i in np.arange(0, 1.05, 0.05): \n",
    "    TPRs.append(TPR_FPR(predict, trueLabels, i)[0])\n",
    "    FPRs.append(TPR_FPR(predict, trueLabels, i)[1])\n",
    "plt.plot(FPRs, TPRs, \"o-\", color=\"blue\")\n",
    "plt.xlim(-0.1, 1.1)\n",
    "plt.ylim(-0.1, 1.1)\n",
    "plt.xlabel(\"FPR\")\n",
    "plt.ylabel(\"TPR\")\n",
    "plt.title(\"ROC Curve 1\")\n",
    "plt.gca().set_aspect('equal', adjustable='box')\n",
    "plt.show()"
   ]
  },
  {
   "cell_type": "markdown",
   "metadata": {},
   "source": [
    "Visually, the area under this ROC curve is close to 1, indicating that the model is capable of being sensitive to true positives while maintaining a low false positive rate. \n",
    "\n",
    "What does the ROC curve for a poor model look like? Let us generate sample predictions where the probability predictions for classes 1 and 2 are drawn from normal distributions with similar means. "
   ]
  },
  {
   "cell_type": "code",
   "execution_count": 76,
   "metadata": {
    "collapsed": false
   },
   "outputs": [
    {
     "data": {
      "image/png": "[encoded data removed]",
      "text/plain": [
       "<matplotlib.figure.Figure at 0x106608320>"
      ]
     },
     "metadata": {},
     "output_type": "display_data"
    }
   ],
   "source": [
    "np.random.seed(2)\n",
    "trueLabels = num*[1] + num*[0]\n",
    "t = np.array([i if (i <= 1 and i>= 0) else 0.6 for i in np.random.normal(0.55, 0.3, num)])\n",
    "f = np.array([i if (i <= 1 and i>= 0) else 0.4 for i in np.random.normal(0.45, 0.3, num)])\n",
    "predict = np.concatenate([t, f])\n",
    "\n",
    "TPRs2 = []\n",
    "FPRs2 = []\n",
    "for i in np.arange(0, 1.05, 0.05): \n",
    "    TPRs2.append(TPR_FPR(predict, trueLabels, i)[0])\n",
    "    FPRs2.append(TPR_FPR(predict, trueLabels, i)[1])\n",
    "    \n",
    "plt.plot(FPRs, TPRs, \"o-\", color=\"blue\", label=\"First model\")\n",
    "plt.plot(FPRs2, TPRs2, \"o-\", color=\"red\", label=\"Second model\")\n",
    "plt.xlim(-0.1, 1.1)\n",
    "plt.ylim(-0.1, 1.1)\n",
    "plt.xlabel(\"FPR\")\n",
    "plt.ylabel(\"TPR\")\n",
    "plt.title(\"ROC Curve\")\n",
    "plt.legend(loc=\"lower right\")\n",
    "plt.gca().set_aspect('equal', adjustable='box')\n",
    "plt.show()"
   ]
  },
  {
   "cell_type": "markdown",
   "metadata": {},
   "source": [
    "It now becomes apparent that a good model should have a AUC close to 1 while a poor model should have a AUC close to 0.5, corresponding to the AUC of random classification. "
   ]
  },
  {
   "cell_type": "markdown",
   "metadata": {},
   "source": [
    "The AUC has a mathematical formulation. Let $m^{+}$ be number of cases and $m^{-}$ be number of controls. Let $\\hat{y_{j}^{+}}$ be the predicted probability of being a case for a randomly selected case and let $\\hat{y_{k}^{-}}$ be the predicted probability of being a case for a randomly selected control. Let $g()$ be a function such that:\n",
    "\n",
    "$$g(x)=\\begin{cases}\n",
    "    0, & \\text{if $x < 0$}\\\\\n",
    "    0.5, & \\text{if $x = 0$}\\\\\n",
    "    1, & \\text{if $x > 0$}\n",
    "  \\end{cases}$$\n",
    "  \n",
    "Then the mathematical formulation of AUC is as follows:\n",
    "\n",
    "$$AUC = \\frac{1}{m^{+}m^{-}}\\sum_{j=1}^{m^{+}}\\sum_{k=1}^{m^{-}}g(\\hat{y_{j}^{+}} - \\hat{y_{k}^{-}})$$\n",
    "\n",
    "In this formulation, the predicted probability of being a case for each randomly selected case is compared with the probability of being a case for a randomly selected control for every control. A perfect classifier would assign a higher probability of being a case for every case compared to controls, yielding a AUC of 1. The fraction $\\frac{1}{m^{+}m^{-}}$ serves to constrain the AUC between 0 and 1. Note that a AUC less than 0.5 means that on average, cases are categorized as controls more. When the AUC is less than 0.5, then a simple fix would be to switch the predicted label."
   ]
  }
 ],
 "metadata": {
  "kernelspec": {
   "display_name": "Python 3",
   "language": "python",
   "name": "python3"
  },
  "language_info": {
   "codemirror_mode": {
    "name": "ipython",
    "version": 3
   },
   "file_extension": ".py",
   "mimetype": "text/x-python",
   "name": "python",
   "nbconvert_exporter": "python",
   "pygments_lexer": "ipython3",
   "version": "3.5.2"
  }
 },
 "nbformat": 4,
 "nbformat_minor": 0
}
