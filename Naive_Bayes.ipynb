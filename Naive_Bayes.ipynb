{
 "cells": [
  {
   "cell_type": "markdown",
   "metadata": {},
   "source": [
    "# <center>Naive Bayes</center>\n",
    "### <center>Calvin Chi</center>"
   ]
  },
  {
   "cell_type": "markdown",
   "metadata": {},
   "source": [
    "Naive Bayes is a generative classificaiton algorithm. In a generative classification algorithm, we are trying to model $p(x|y)$, where $x$ is the feature and $y$ is the label. In contrast, a distriminative algorithm tries to model $p(y|x)$. Modeling $p(x|y)$ is useful because it can ultimately be used to calculate $p(y|x)$ using Bayes' Rule:\n",
    "\n",
    "$$p(y|x) = \\frac{p(x|y)p(y)}{p(x)}$$\n",
    "\n",
    "If there are two classes, we would use the above equation twice to calculate the probability of the sample being class $1$ and class $2$ respectively. Since $p(x)$ will be the same in both cases, the denominator is often omitted and we just compare the numerators to see which class is most probable. \n",
    "\n",
    "How do we compute $p(x|y)$? Assume that our sample has $n$ features. In Naive Bayes, it is assumed that each $x_{i}$ is conditionally independent of the rest of the $x_{j}'s$ given what $y$ is. Notice how this is different from $x_{i}$ being unconditionally independent from the rest of $x_{j}'s$. In the first case, the independence relationship would be written as:\n",
    "\n",
    "$$p(x_{i}|x_{j}, y) = p(x_{i}|y)$$\n",
    "\n",
    "Whereas the independence relationship in the latter case would be written as:\n",
    "\n",
    "$$p(x_{i}|x_{j}) = p(x_{i})$$ \n",
    "\n",
    "The independence assumption is convenient because now the joint probability of a sample with all its features given it belongs to a class can now be written as:\n",
    "\n",
    "$$p(x_{1},...,x_{n}|y) = \\prod_{i=1}^{n}p(x_{i}|y)$$\n",
    "\n",
    "What is $p(x_{i}|y)$? Assume we have two classes. Also assume that the data comes from the same distribution, but with different distribution paramters, then $p(x_{i}|y)$ is the probability of $x_{i}$ given the density with parameters dictated by $y$. These parameters would be calculated in the training stage, where we are given samples belonging to each class, and our goal would be to calculate the maximum likelihood parameters for each of the classes.\n",
    "\n",
    "Let us walk through an example. Assume that each of our $x_{i}'s$ are normally distributed with unknown parameters $\\mu$ and $\\sigma$. Given a training set $x^{(1)},...,x^{(m)}$ with known labels, where $x \\in \\mathbb{R}^{1xn}$, we would calculate the $\\mu$ and $\\sigma$ for each $x_{i}$ for each class, and use it to construct to $p(x_{i}|y)$. \n",
    "\n",
    "Let us run a simulation by generating $m$ samples where $x \\in \\mathbb{R}^{1x2}$, and each $x_{i}$ are conditionally independent of the other $x_{j}'s$. Then we will generate another simulation of samples, but this time violating our assumption by introducing a covariance term between each of the $x_{i}'s$. We will be applying Naive Bayes in both cases to evaluate its performance when the assumption is valid and when it is invalid. A normal distribution for each $x_{i}$ is assumed."
   ]
  },
  {
   "cell_type": "code",
   "execution_count": 34,
   "metadata": {
    "collapsed": false
   },
   "outputs": [
    {
     "data": {
      "image/png": "[encoded data removed]",
      "text/plain": [
       "<matplotlib.figure.Figure at 0x106e1e9b0>"
      ]
     },
     "metadata": {},
     "output_type": "display_data"
    }
   ],
   "source": [
    "%matplotlib inline \n",
    "import matplotlib.pyplot as plt\n",
    "import numpy as np\n",
    "\n",
    "def GenerateSamples(cov=0, N=500):\n",
    "    y = np.random.randint(2, size=N).reshape((N, 1))\n",
    "    mean1 = [0, 0]\n",
    "    cov1 = [[1, cov], [cov, 2]]\n",
    "    mean2 = [4, 3]\n",
    "    cov2 = [[2, cov], [cov, 1]] \n",
    "    x1 = np.zeros(N).reshape((N, 1))\n",
    "    x2 = np.zeros(N).reshape((N, 1))\n",
    "    for i in range(N):\n",
    "        if y[i] == 0:\n",
    "            x1[i], x2[i] = np.random.multivariate_normal(mean1, cov1, 1).T\n",
    "        else:\n",
    "            x1[i], x2[i] = np.random.multivariate_normal(mean2, cov2, 1).T\n",
    "    X = np.concatenate((x1, x2), axis=1)\n",
    "    return X, y\n",
    "\n",
    "X, y = GenerateSamples()\n",
    "mat = np.concatenate((X[:,[0]], X[:,[1]], y), axis=1)\n",
    "class1 = mat[np.where(mat[:,-1] == 0)]\n",
    "class2 = mat[np.where(mat[:,-1] == 1)]\n",
    "plt.scatter(class1[:, 0], class1[:, 1], marker=\"^\", color=\"green\", label=\"class 1\")\n",
    "plt.scatter(class2[:, 0], class2[:, 1], marker=\"o\", color=\"blue\", label=\"class 2\")\n",
    "plt.legend(loc=\"lower right\")\n",
    "plt.show()"
   ]
  },
  {
   "cell_type": "markdown",
   "metadata": {},
   "source": [
    "And next build the Naive Bayes classifier:"
   ]
  },
  {
   "cell_type": "code",
   "execution_count": 26,
   "metadata": {
    "collapsed": false
   },
   "outputs": [],
   "source": [
    "import numpy as np\n",
    "from scipy.stats import norm\n",
    "\n",
    "class NaiveBayes():\n",
    "    def train(self, X, Y):\n",
    "        mat = np.concatenate((X, Y), axis=1)\n",
    "        n = mat.shape[0]\n",
    "        self.pdfs = {}\n",
    "        labels = set(mat[:,-1])\n",
    "        for i in range(len(labels)):\n",
    "            subset = mat[np.where(mat[:,-1] == i)]\n",
    "            self.pdfs[i] = {\"mean\": np.mean(subset, axis=0),\n",
    "                         \"stdevs\": np.std(subset, axis=0), \n",
    "                           \"prior\": subset.shape[0]/n}\n",
    "    def predict(self, x):\n",
    "        def probability(sample, parameters):\n",
    "            prior = parameters[\"prior\"]\n",
    "            likelihood = norm.pdf(sample[0], parameters[\"mean\"][0], \n",
    "                        parameters[\"stdevs\"][0])* norm.pdf(sample[1], \n",
    "                        parameters[\"mean\"][1], parameters[\"stdevs\"][1])\n",
    "            return prior * likelihood\n",
    "        predictions = []\n",
    "        for i in range(x.shape[0]):\n",
    "            probs = []\n",
    "            sample = x[i, :]\n",
    "            probs.append(probability(sample, self.pdfs[0]))\n",
    "            probs.append(probability(sample, self.pdfs[1]))\n",
    "            predictions.append(probs.index(max(probs)))\n",
    "        return predictions "
   ]
  },
  {
   "cell_type": "markdown",
   "metadata": {},
   "source": [
    "Train, then predict on another dataset drawn from the same distribution as the training set."
   ]
  },
  {
   "cell_type": "code",
   "execution_count": 54,
   "metadata": {
    "collapsed": false
   },
   "outputs": [
    {
     "name": "stdout",
     "output_type": "stream",
     "text": [
      "0.97\n"
     ]
    }
   ],
   "source": [
    "bayes = NaiveBayes()\n",
    "bayes.train(X, y)\n",
    "\n",
    "X, y = GenerateSamples(cov=0, N=200)\n",
    "predictions = np.array(bayes.predict(X)).reshape((200, 1))\n",
    "\n",
    "match = predictions == y\n",
    "print((sum(match)/len(match))[0])"
   ]
  },
  {
   "cell_type": "markdown",
   "metadata": {},
   "source": [
    "And the prediction accuracy is quite high given that assumptions to Naive Bayes hold! We would expect that the more our assumptions are violated, the lower our prediction accuracy. Let us test this by assessing the prediction accuracy as we generate independent datasets with increasing covariance values. "
   ]
  },
  {
   "cell_type": "code",
   "execution_count": 56,
   "metadata": {
    "collapsed": false
   },
   "outputs": [
    {
     "name": "stderr",
     "output_type": "stream",
     "text": [
      "/Users/calvinchi/anaconda3/lib/python3.5/site-packages/ipykernel/__main__.py:17: RuntimeWarning: covariance is not positive-semidefinite.\n",
      "/Users/calvinchi/anaconda3/lib/python3.5/site-packages/ipykernel/__main__.py:15: RuntimeWarning: covariance is not positive-semidefinite.\n"
     ]
    },
    {
     "data": {
      "image/png": "[encoded data removed]",
      "text/plain": [
       "<matplotlib.figure.Figure at 0x107b134a8>"
      ]
     },
     "metadata": {},
     "output_type": "display_data"
    }
   ],
   "source": [
    "covSet = [0, 5, 10, 15, 20]\n",
    "accuracies = []\n",
    "for cov in covSet:\n",
    "    X, y = GenerateSamples(cov=cov, N=200)\n",
    "    predictions = np.array(bayes.predict(X)).reshape((200, 1))\n",
    "    match = predictions == y\n",
    "    accuracies.append((sum(match)/len(match))[0])  \n",
    "plt.plot(covSet, accuracies)\n",
    "plt.ylabel(\"Prediction Accuracy\")\n",
    "plt.xlabel(\"Diagonal Covariance Value\")\n",
    "plt.show()"
   ]
  },
  {
   "cell_type": "markdown",
   "metadata": {},
   "source": [
    "This concludes the Naive Bayes' tutorial!"
   ]
  }
 ],
 "metadata": {
  "kernelspec": {
   "display_name": "Python 3",
   "language": "python",
   "name": "python3"
  },
  "language_info": {
   "codemirror_mode": {
    "name": "ipython",
    "version": 3
   },
   "file_extension": ".py",
   "mimetype": "text/x-python",
   "name": "python",
   "nbconvert_exporter": "python",
   "pygments_lexer": "ipython3",
   "version": "3.5.2"
  }
 },
 "nbformat": 4,
 "nbformat_minor": 0
}
